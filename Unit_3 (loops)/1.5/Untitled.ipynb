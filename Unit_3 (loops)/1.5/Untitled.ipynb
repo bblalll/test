{
 "cells": [
  {
   "cell_type": "code",
   "execution_count": 5,
   "id": "75f9e56a",
   "metadata": {},
   "outputs": [],
   "source": [
    "liste = [1,2,3,4,5,6]\n",
    "liste . append(7)"
   ]
  },
  {
   "cell_type": "code",
   "execution_count": 6,
   "id": "682b79fe",
   "metadata": {},
   "outputs": [
    {
     "data": {
      "text/plain": [
       "[1, 2, 3, 4, 5, 6, 7]"
      ]
     },
     "execution_count": 6,
     "metadata": {},
     "output_type": "execute_result"
    }
   ],
   "source": [
    "liste"
   ]
  },
  {
   "cell_type": "code",
   "execution_count": 9,
   "id": "e1df8c92",
   "metadata": {},
   "outputs": [
    {
     "name": "stdout",
     "output_type": "stream",
     "text": [
      "[1, 2, 3, 4, 5, 6, 7]\n"
     ]
    }
   ],
   "source": [
    "liste1 = [1,2,3,4,5,6,7]\n",
    "\n",
    "liste2 = list()\n",
    "\n",
    "for i in liste1:\n",
    "    liste2.append(i)\n",
    "    \n",
    "print (liste2)"
   ]
  },
  {
   "cell_type": "code",
   "execution_count": 10,
   "id": "01a33e0c",
   "metadata": {},
   "outputs": [
    {
     "name": "stdout",
     "output_type": "stream",
     "text": [
      "[2, 4, 6, 8, 10, 12, 14]\n"
     ]
    }
   ],
   "source": [
    "liste1 = [1,2,3,4,5,6,7]\n",
    "\n",
    "liste2 = [i*2 for i in liste1]\n",
    "print(liste2)\n"
   ]
  },
  {
   "cell_type": "code",
   "execution_count": 12,
   "id": "806cb7f7",
   "metadata": {},
   "outputs": [
    {
     "name": "stdout",
     "output_type": "stream",
     "text": [
      "[4, 9]\n"
     ]
    }
   ],
   "source": [
    "liste1 = [1,2,3,4,5,6,7,8,9,10]\n",
    "\n",
    "liste2 = [i for i in liste1 if (i==4 or i==9)]\n",
    "print(liste2)\n"
   ]
  },
  {
   "cell_type": "code",
   "execution_count": 14,
   "id": "74fd432b",
   "metadata": {},
   "outputs": [
    {
     "name": "stdout",
     "output_type": "stream",
     "text": [
      "[0, 6, 20, 42]\n"
     ]
    }
   ],
   "source": [
    "liste1 = [(0,1),(2,3),(4,5),(6,7)]\n",
    "\n",
    "liste2 = [i*b for (i,b) in liste1]\n",
    "print(liste2)\n"
   ]
  },
  {
   "cell_type": "code",
   "execution_count": 21,
   "id": "c1f8386f",
   "metadata": {},
   "outputs": [
    {
     "name": "stdout",
     "output_type": "stream",
     "text": [
      "['ppp', 'yyy', 'ttt', 'hhh', 'ooo', 'nnn']\n"
     ]
    }
   ],
   "source": [
    "s = \"python\"\n",
    "\n",
    "liste = [i * 3 for i in s]\n",
    "\n",
    "print(liste)"
   ]
  },
  {
   "cell_type": "code",
   "execution_count": 1,
   "id": "cc0cc1f4",
   "metadata": {},
   "outputs": [],
   "source": [
    "liste = [[1,2,3],[4,5,6],[7,8,9,10,11,12,13,14,15]]"
   ]
  },
  {
   "cell_type": "code",
   "execution_count": 3,
   "id": "9b77b943",
   "metadata": {},
   "outputs": [
    {
     "name": "stdout",
     "output_type": "stream",
     "text": [
      "[1, 2, 3]\n",
      "[4, 5, 6]\n",
      "[7, 8, 9, 10, 11, 12, 13, 14, 15]\n"
     ]
    }
   ],
   "source": [
    "\n",
    "liste = [[1,2,3],[4,5,6],[7,8,9,10,11,12,13,14,15]]\n",
    "\n",
    "liste2 = list()\n",
    "\n",
    "for i in liste:\n",
    "    print(i)"
   ]
  },
  {
   "cell_type": "code",
   "execution_count": 4,
   "id": "c28d4dab",
   "metadata": {},
   "outputs": [
    {
     "name": "stdout",
     "output_type": "stream",
     "text": [
      "x: 1\n",
      "x: 2\n",
      "x: 3\n",
      "x: 4\n",
      "x: 5\n",
      "x: 6\n",
      "x: 7\n",
      "x: 8\n",
      "x: 9\n",
      "x: 10\n",
      "x: 11\n",
      "x: 12\n",
      "x: 13\n",
      "x: 14\n",
      "x: 15\n",
      "[7, 8, 9, 10, 11, 12, 13, 14, 15]\n"
     ]
    }
   ],
   "source": [
    "liste = [[1,2,3],[4,5,6],[7,8,9,10,11,12,13,14,15]]\n",
    "\n",
    "liste2 = list()\n",
    "\n",
    "for i in liste:\n",
    "    for x in i:\n",
    "        print(\"x:\",x)\n",
    "        liste2.append(x)\n",
    "print(i)"
   ]
  },
  {
   "cell_type": "code",
   "execution_count": null,
   "id": "066b5e64",
   "metadata": {},
   "outputs": [],
   "source": []
  }
 ],
 "metadata": {
  "kernelspec": {
   "display_name": "Python 3 (ipykernel)",
   "language": "python",
   "name": "python3"
  },
  "language_info": {
   "codemirror_mode": {
    "name": "ipython",
    "version": 3
   },
   "file_extension": ".py",
   "mimetype": "text/x-python",
   "name": "python",
   "nbconvert_exporter": "python",
   "pygments_lexer": "ipython3",
   "version": "3.9.13"
  }
 },
 "nbformat": 4,
 "nbformat_minor": 5
}
