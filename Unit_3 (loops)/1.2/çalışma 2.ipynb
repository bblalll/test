{
 "cells": [
  {
   "cell_type": "code",
   "execution_count": 3,
   "id": "9219f606",
   "metadata": {},
   "outputs": [
    {
     "name": "stdout",
     "output_type": "stream",
     "text": [
      "i'nin deyeri 0\n",
      "i'nin deyeri 1\n",
      "i'nin deyeri 2\n",
      "i'nin deyeri 3\n",
      "i'nin deyeri 4\n",
      "i'nin deyeri 5\n",
      "i'nin deyeri 6\n",
      "i'nin deyeri 7\n",
      "i'nin deyeri 8\n",
      "i'nin deyeri 9\n"
     ]
    }
   ],
   "source": [
    "i = 0\n",
    "while (i < 10):\n",
    "    print(\"i'nin deyeri\",i)\n",
    "    i += 1"
   ]
  },
  {
   "cell_type": "code",
   "execution_count": 4,
   "id": "2b5b3ab7",
   "metadata": {},
   "outputs": [
    {
     "name": "stdout",
     "output_type": "stream",
     "text": [
      "0 python öğreniyorum\n",
      "2 python öğreniyorum\n",
      "4 python öğreniyorum\n",
      "6 python öğreniyorum\n",
      "8 python öğreniyorum\n",
      "10 python öğreniyorum\n",
      "12 python öğreniyorum\n",
      "14 python öğreniyorum\n",
      "16 python öğreniyorum\n",
      "18 python öğreniyorum\n"
     ]
    }
   ],
   "source": [
    "i = 0\n",
    "while (i < 20):\n",
    "    print(i,\"python öğreniyorum\")\n",
    "    i += 2"
   ]
  },
  {
   "cell_type": "code",
   "execution_count": 5,
   "id": "862adf7e",
   "metadata": {},
   "outputs": [
    {
     "name": "stdout",
     "output_type": "stream",
     "text": [
      "0 python öğreniyorum\n",
      "2 python öğreniyorum\n",
      "4 python öğreniyorum\n",
      "6 python öğreniyorum\n",
      "8 python öğreniyorum\n",
      "10 python öğreniyorum\n",
      "12 python öğreniyorum\n",
      "14 python öğreniyorum\n",
      "16 python öğreniyorum\n",
      "18 python öğreniyorum\n",
      "20 python öğreniyorum\n",
      "22 python öğreniyorum\n",
      "24 python öğreniyorum\n",
      "26 python öğreniyorum\n",
      "28 python öğreniyorum\n",
      "30 python öğreniyorum\n",
      "32 python öğreniyorum\n",
      "34 python öğreniyorum\n",
      "36 python öğreniyorum\n",
      "38 python öğreniyorum\n",
      "40 python öğreniyorum\n",
      "42 python öğreniyorum\n",
      "44 python öğreniyorum\n",
      "46 python öğreniyorum\n",
      "48 python öğreniyorum\n"
     ]
    }
   ],
   "source": [
    "i = 0\n",
    "while (i < 50):\n",
    "    print(i,\"python öğreniyorum\")\n",
    "    i += 2"
   ]
  },
  {
   "cell_type": "code",
   "execution_count": 6,
   "id": "ce93d62e",
   "metadata": {},
   "outputs": [
    {
     "name": "stdout",
     "output_type": "stream",
     "text": [
      "indeks: 0 eleman: 1\n",
      "indeks: 1 eleman: 2\n",
      "indeks: 2 eleman: 3\n",
      "indeks: 3 eleman: 4\n",
      "indeks: 4 eleman: 5\n",
      "indeks: 5 eleman: 6\n",
      "indeks: 6 eleman: 7\n"
     ]
    }
   ],
   "source": [
    "liste=[1,2,3,4,5,6,7]\n",
    "\n",
    "a = 0\n",
    "\n",
    "while (a<len(liste)):\n",
    "    print(\"indeks:\",a,\"eleman:\",liste [a] )\n",
    "    a+=1"
   ]
  },
  {
   "cell_type": "code",
   "execution_count": null,
   "id": "74e05927",
   "metadata": {},
   "outputs": [],
   "source": []
  }
 ],
 "metadata": {
  "kernelspec": {
   "display_name": "Python 3 (ipykernel)",
   "language": "python",
   "name": "python3"
  },
  "language_info": {
   "codemirror_mode": {
    "name": "ipython",
    "version": 3
   },
   "file_extension": ".py",
   "mimetype": "text/x-python",
   "name": "python",
   "nbconvert_exporter": "python",
   "pygments_lexer": "ipython3",
   "version": "3.9.13"
  }
 },
 "nbformat": 4,
 "nbformat_minor": 5
}
