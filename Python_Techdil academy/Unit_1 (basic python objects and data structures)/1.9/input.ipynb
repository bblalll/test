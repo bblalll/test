{
 "cells": [
  {
   "cell_type": "code",
   "execution_count": 2,
   "id": "e618fd95",
   "metadata": {},
   "outputs": [
    {
     "name": "stdout",
     "output_type": "stream",
     "text": [
      "2023\n"
     ]
    },
    {
     "data": {
      "text/plain": [
       "'2023'"
      ]
     },
     "execution_count": 2,
     "metadata": {},
     "output_type": "execute_result"
    }
   ],
   "source": [
    "input()"
   ]
  },
  {
   "cell_type": "code",
   "execution_count": 3,
   "id": "4c032d76",
   "metadata": {},
   "outputs": [
    {
     "name": "stdout",
     "output_type": "stream",
     "text": [
      "lütfen birsayıgiriniz:2023\n"
     ]
    },
    {
     "data": {
      "text/plain": [
       "'2023'"
      ]
     },
     "execution_count": 3,
     "metadata": {},
     "output_type": "execute_result"
    }
   ],
   "source": [
    "input(\"lütfen birsayıgiriniz:\")"
   ]
  },
  {
   "cell_type": "code",
   "execution_count": 4,
   "id": "86caba55",
   "metadata": {},
   "outputs": [
    {
     "name": "stdout",
     "output_type": "stream",
     "text": [
      "lütfen birsayı giriniz:180\n",
      "girdiğniz sayi: 180\n"
     ]
    }
   ],
   "source": [
    "a=input(\"lütfen birsayı giriniz:\")\n",
    "print(\"girdiğniz sayi:\",a)"
   ]
  },
  {
   "cell_type": "code",
   "execution_count": 7,
   "id": "047dfd11",
   "metadata": {},
   "outputs": [
    {
     "name": "stdout",
     "output_type": "stream",
     "text": [
      "<class 'str'>\n"
     ]
    }
   ],
   "source": [
    "a=(\"lütfen birsayı giriniz:\")\n",
    "print(type(a))"
   ]
  },
  {
   "cell_type": "code",
   "execution_count": 9,
   "id": "33fcfb16",
   "metadata": {},
   "outputs": [
    {
     "name": "stdout",
     "output_type": "stream",
     "text": [
      "lütfenbir asyıgiriniz:180\n",
      "180180180\n"
     ]
    }
   ],
   "source": [
    "a=input(\"lütfenbir asyıgiriniz:\")\n",
    "print(a * 3)"
   ]
  },
  {
   "cell_type": "code",
   "execution_count": 10,
   "id": "25d33f29",
   "metadata": {},
   "outputs": [
    {
     "name": "stdout",
     "output_type": "stream",
     "text": [
      "lütfen birsayı giriniz:4\n",
      "12\n"
     ]
    }
   ],
   "source": [
    "a=int(input(\"lütfen birsayı giriniz:\"))\n",
    "print(a*3)"
   ]
  },
  {
   "cell_type": "code",
   "execution_count": 12,
   "id": "0fd0c54c",
   "metadata": {},
   "outputs": [
    {
     "name": "stdout",
     "output_type": "stream",
     "text": [
      "lütfen bir sayı giriniz:5.3\n",
      "5.35.35.3\n"
     ]
    }
   ],
   "source": [
    "a=input(\"lütfen bir sayı giriniz:\")\n",
    "print(a*3)"
   ]
  },
  {
   "cell_type": "code",
   "execution_count": null,
   "id": "7ca2e488",
   "metadata": {},
   "outputs": [],
   "source": [
    "a = float(input(\"Lütfen bir sayı giriniz:\"))\n",
    "print(a * 3) "
   ]
  },
  {
   "cell_type": "code",
   "execution_count": null,
   "id": "2c89fcfc",
   "metadata": {},
   "outputs": [],
   "source": []
  }
 ],
 "metadata": {
  "kernelspec": {
   "display_name": "Python 3 (ipykernel)",
   "language": "python",
   "name": "python3"
  },
  "language_info": {
   "codemirror_mode": {
    "name": "ipython",
    "version": 3
   },
   "file_extension": ".py",
   "mimetype": "text/x-python",
   "name": "python",
   "nbconvert_exporter": "python",
   "pygments_lexer": "ipython3",
   "version": "3.9.13"
  }
 },
 "nbformat": 4,
 "nbformat_minor": 5
}
