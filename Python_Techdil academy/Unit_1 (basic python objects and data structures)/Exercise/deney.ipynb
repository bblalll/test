{
 "cells": [
  {
   "cell_type": "code",
   "execution_count": 1,
   "id": "bd2f5e24",
   "metadata": {},
   "outputs": [
    {
     "name": "stdout",
     "output_type": "stream",
     "text": [
      "techdil akademesine hoşgeldiniz!!!\n",
      "üye adı:bilal\n",
      "üye soyadı:seyfu\n",
      "üyenin kayıt olduğ ders:python\n",
      "bigiler kaydediliyor....\n",
      "üye adı: bilal\n",
      " üye soyadı: seyfu\n",
      "üyenin kayıt olduğ ders: python\n",
      "\n",
      "bilgiler kaydedildi.....\n"
     ]
    }
   ],
   "source": [
    "print(\"techdil akademesine hoşgeldiniz!!!\")\n",
    "ad=input(\"üye adı:\")\n",
    "soyad=input(\"üye soyadı:\")\n",
    "ders=input(\"üyenin kayıt olduğ ders:\")\n",
    "\n",
    "bilgiler=[ad,soyad,ders]\n",
    "\n",
    "print(\"bigiler kaydediliyor....\")\n",
    "\n",
    "print(\"üye adı: {}\\n üye soyadı: {}\\nüyenin kayıt olduğ ders: {}\\n\".format(bilgiler[0],bilgiler[1],bilgiler[2]))\n",
    "\n",
    "print(\"bilgiler kaydedildi.....\")\n"
   ]
  },
  {
   "cell_type": "code",
   "execution_count": 2,
   "id": "dd02b7d4",
   "metadata": {},
   "outputs": [
    {
     "name": "stdout",
     "output_type": "stream",
     "text": [
      "a:80\n",
      "b:3\n",
      "c:2\n",
      "80 x 3 x 2 = 480 dir\n"
     ]
    }
   ],
   "source": [
    "a=int(input(\"a:\"))\n",
    "b=int(input(\"b:\"))\n",
    "c=int(input(\"c:\"))\n",
    "\n",
    "çarpım = a * b * c\n",
    "\n",
    "print(\"{} x {} x {} = {} dir\". format(a,b,c,çarpım))"
   ]
  },
  {
   "cell_type": "code",
   "execution_count": 1,
   "id": "55e2910a",
   "metadata": {},
   "outputs": [
    {
     "name": "stdout",
     "output_type": "stream",
     "text": [
      "boy:1.65\n",
      "kilo:55\n",
      "beden kitle indeksi: 20.202020202020204\n"
     ]
    }
   ],
   "source": [
    "boy=float(input(\"boy:\"))\n",
    "kilo=int(input(\"kilo:\"))\n",
    "\n",
    "print(\"beden kitle indeksi:\" ,kilo / (boy**2))"
   ]
  },
  {
   "cell_type": "code",
   "execution_count": 4,
   "id": "1a0aa240",
   "metadata": {},
   "outputs": [
    {
     "name": "stdout",
     "output_type": "stream",
     "text": [
      "Kilometrede yakan miktar:3\n",
      "Kaç km yol yaptınız:150\n",
      "Tutar: 450.0 tl\n"
     ]
    }
   ],
   "source": [
    "yakan_miktar = float(input(\"Kilometrede yakan miktar:\"))\n",
    "\n",
    "kilometre = int(input(\"Kaç km yol yaptınız:\"))\n",
    "\n",
    "print(\"Tutar: {} tl\".format(yakan_miktar * kilometre))"
   ]
  },
  {
   "cell_type": "code",
   "execution_count": 5,
   "id": "939c3d76",
   "metadata": {},
   "outputs": [
    {
     "name": "stdout",
     "output_type": "stream",
     "text": [
      "a20\n",
      "b:50\n",
      "değiştirilmeden önceki değerler\n",
      "a: 20 b: 50 \n",
      "\n",
      "değiştirildikten sonraki deyerler \n",
      ": 50 b: 20 \n",
      "\n"
     ]
    }
   ],
   "source": [
    "a=input(\"a\")\n",
    "b=input(\"b:\")\n",
    "\n",
    "print (\"değiştirilmeden önceki değerler\\na: {} b: {} \\n\".format(a,b))\n",
    "\n",
    "a,b = b,a\n",
    "\n",
    "print (\"değiştirildikten sonraki deyerler \\n: {} b: {} \\n\".format(a,b))"
   ]
  },
  {
   "cell_type": "code",
   "execution_count": null,
   "id": "abe69bd9",
   "metadata": {},
   "outputs": [],
   "source": []
  }
 ],
 "metadata": {
  "kernelspec": {
   "display_name": "Python 3 (ipykernel)",
   "language": "python",
   "name": "python3"
  },
  "language_info": {
   "codemirror_mode": {
    "name": "ipython",
    "version": 3
   },
   "file_extension": ".py",
   "mimetype": "text/x-python",
   "name": "python",
   "nbconvert_exporter": "python",
   "pygments_lexer": "ipython3",
   "version": "3.9.13"
  }
 },
 "nbformat": 4,
 "nbformat_minor": 5
}
