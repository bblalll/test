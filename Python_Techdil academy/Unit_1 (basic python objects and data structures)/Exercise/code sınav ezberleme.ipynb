{
 "cells": [
  {
   "cell_type": "code",
   "execution_count": 4,
   "id": "60eb0fca",
   "metadata": {},
   "outputs": [
    {
     "name": "stdout",
     "output_type": "stream",
     "text": [
      "boyunuzu giririniz:1.73\n",
      "klonuzu giriniz:58\n",
      "normal\n"
     ]
    }
   ],
   "source": [
    "boy = float(input(\"boyunuzu giririniz:\"))\n",
    "kilo = int(input(\"klonuzu giriniz:\"))\n",
    "bki = kilo / (boy ** 2)\n",
    "\n",
    "if (bki<18.5):\n",
    "    print(\"zayıf\")\n",
    "elif (bki >=18.5 and bki < 25):\n",
    "    print(\"normal\")\n",
    "elif (bki >= 25 and bki < 30):\n",
    "    print(\"Fazla Kilolu\")\n",
    "else:\n",
    "    print(\"obez\")"
   ]
  },
  {
   "cell_type": "code",
   "execution_count": 5,
   "id": "a3299738",
   "metadata": {},
   "outputs": [
    {
     "name": "stdout",
     "output_type": "stream",
     "text": [
      "------------------------------------------\n",
      "\n",
      "1.toplama:\n",
      "\n",
      "2.çıkarma:\n",
      "\n",
      "3.çarpma:\n",
      "\n",
      "4.böleme:\n",
      "---------------------------------------------------\n",
      " \n",
      "birinci sayı:66\n",
      "ikinci sayı:87\n",
      "işlem numarasını giriniz:3\n",
      "66 ile 87 'nin çarpımı 5742 dır.\n"
     ]
    }
   ],
   "source": [
    "print(\"\"\"------------------------------------------\n",
    "\n",
    "1.toplama:\n",
    "\n",
    "2.çıkarma:\n",
    "\n",
    "3.çarpma:\n",
    "\n",
    "4.böleme:\n",
    "---------------------------------------------------\n",
    " \"\"\")\n",
    "a=int(input(\"birinci sayı:\"))\n",
    "b=int(input(\"ikinci sayı:\"))\n",
    "\n",
    "işlem = input(\"işlem numarasını giriniz:\")\n",
    "\n",
    "if (işlem==\"1\"):\n",
    "    print(\"{} ile {} toplamı {} dır.\".format(a,b,a+b))\n",
    "elif (işlem==\"2\"):\n",
    "    print(\"{} ile {} 'nin farkı {} dır.\".format(a,b,a-b))\n",
    "elif (işlem==\"3\"):\n",
    "    print(\"{} ile {} 'nin çarpımı {} dır.\".format(a,b,a*b))\n",
    "elif (işlem==\"4\"):\n",
    "    print(\"{} in {} 'a bölü {} dır.\".format(a,b,a/b))\n",
    "else:\n",
    "    print(\"ütfen geçerli sayı giriniz:\")\n"
   ]
  },
  {
   "cell_type": "code",
   "execution_count": 7,
   "id": "444181e0",
   "metadata": {},
   "outputs": [
    {
     "name": "stdout",
     "output_type": "stream",
     "text": [
      "sınav_1:86\n",
      "sınav_2:97\n",
      "final:98\n",
      "AA\n"
     ]
    }
   ],
   "source": [
    "sınav_1 = int(input(\"sınav_1:\"))\n",
    "sınav_2 = int(input(\"sınav_2:\"))\n",
    "final = int(input(\"final:\"))\n",
    "sonuç = sınav_1*3/10+sınav_2*3/10+final*4/10\n",
    "\n",
    "if (sonuç >=90):\n",
    "    print(\"AA\")\n",
    "elif(sonuç >=85):\n",
    "     print(\"BA\")\n",
    "elif(sonuç >=80):\n",
    "    print(\"BB\")\n",
    "elif (genel_not >= 75):\n",
    "    print(\"CB\")\n",
    "elif (genel_not >= 70):\n",
    "    print(\"CC\")\n",
    "elif (genel_not >= 65):\n",
    "    print(\"DC\")\n",
    "elif (genel_not >= 60):\n",
    "    print(\"DD\")\n",
    "elif (genel_not >= 55):\n",
    "    print(\"FD\")\n",
    "else:\n",
    "    print(\"FF\")\n",
    "    "
   ]
  },
  {
   "cell_type": "code",
   "execution_count": null,
   "id": "d0594875",
   "metadata": {},
   "outputs": [],
   "source": [
    "şeki=input(\"hangi şeklin tipini öğrenmek istiyorsunuz?\")\n",
    "if (şekil == \"dörtgen\"):\n",
    "    print (\"kenarları sırasıyla giriniz.\")\n",
    "    a = int (input(\"kenar_1:\"))\n",
    "    b = int (input(\"kenar_2:\"))\n",
    "    c = int (input(\"kenar_3:\"))\n",
    "    d = int (input(\"kenar_4:\"))\n",
    "    \n",
    "    if(a==b and a==c and a==d):\n",
    "        print(\"kare\")\n",
    "    elif(a==c and b==d):\n",
    "        print(\"dik dörtgen\")\n",
    "    else:\n",
    "        (\"\")"
   ]
  }
 ],
 "metadata": {
  "kernelspec": {
   "display_name": "Python 3 (ipykernel)",
   "language": "python",
   "name": "python3"
  },
  "language_info": {
   "codemirror_mode": {
    "name": "ipython",
    "version": 3
   },
   "file_extension": ".py",
   "mimetype": "text/x-python",
   "name": "python",
   "nbconvert_exporter": "python",
   "pygments_lexer": "ipython3",
   "version": "3.9.13"
  }
 },
 "nbformat": 4,
 "nbformat_minor": 5
}
