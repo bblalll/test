{
 "cells": [
  {
   "cell_type": "code",
   "execution_count": 10,
   "id": "ae876317",
   "metadata": {},
   "outputs": [
    {
     "data": {
      "text/plain": [
       "35"
      ]
     },
     "execution_count": 10,
     "metadata": {},
     "output_type": "execute_result"
    }
   ],
   "source": [
    "(35)"
   ]
  },
  {
   "cell_type": "code",
   "execution_count": 8,
   "id": "b5770625",
   "metadata": {},
   "outputs": [
    {
     "data": {
      "text/plain": [
       "3.14"
      ]
     },
     "execution_count": 8,
     "metadata": {},
     "output_type": "execute_result"
    }
   ],
   "source": [
    "(3.14)"
   ]
  },
  {
   "cell_type": "code",
   "execution_count": 5,
   "id": "881772fc",
   "metadata": {},
   "outputs": [
    {
     "data": {
      "text/plain": [
       "15"
      ]
     },
     "execution_count": 5,
     "metadata": {},
     "output_type": "execute_result"
    }
   ],
   "source": [
    "A = 8\n",
    "B = 7\n",
    "A+B"
   ]
  },
  {
   "cell_type": "code",
   "execution_count": 8,
   "id": "c0fcf6ce",
   "metadata": {
    "collapsed": true
   },
   "outputs": [
    {
     "data": {
      "text/plain": [
       "17"
      ]
     },
     "execution_count": 8,
     "metadata": {},
     "output_type": "execute_result"
    }
   ],
   "source": [
    "A+9"
   ]
  },
  {
   "cell_type": "code",
   "execution_count": 123,
   "id": "c0ce0daa",
   "metadata": {},
   "outputs": [
    {
     "name": "stdout",
     "output_type": "stream",
     "text": [
      "BİLAL SEYFU\n"
     ]
    }
   ],
   "source": [
    "print (\"BİLAL SEYFU\")"
   ]
  },
  {
   "cell_type": "code",
   "execution_count": 124,
   "id": "dce9b476",
   "metadata": {},
   "outputs": [
    {
     "name": "stdout",
     "output_type": "stream",
     "text": [
      "BİLAL' ın bugün dersi var. \n"
     ]
    }
   ],
   "source": [
    "print (\"BİLAL' ın bugün dersi var. \")"
   ]
  },
  {
   "cell_type": "code",
   "execution_count": 125,
   "id": "c3f5f68f",
   "metadata": {},
   "outputs": [
    {
     "name": "stdout",
     "output_type": "stream",
     "text": [
      "bilal 180 3 360 7.77\n"
     ]
    }
   ],
   "source": [
    "print (\"bilal\" ,180,3,360,7.77,)"
   ]
  },
  {
   "cell_type": "code",
   "execution_count": 126,
   "id": "ce60ca01",
   "metadata": {},
   "outputs": [
    {
     "data": {
      "text/plain": [
       "('bilal', 137, 456, 33.76)"
      ]
     },
     "execution_count": 126,
     "metadata": {},
     "output_type": "execute_result"
    }
   ],
   "source": [
    "(\"bilal\" ,137,456,33.76,)"
   ]
  },
  {
   "cell_type": "code",
   "execution_count": 127,
   "id": "19ac9fc1",
   "metadata": {},
   "outputs": [
    {
     "name": "stdout",
     "output_type": "stream",
     "text": [
      "bilal seyfu techdil\n"
     ]
    }
   ],
   "source": [
    "print (\"bilal\",\"seyfu\",\"techdil\")"
   ]
  },
  {
   "cell_type": "code",
   "execution_count": 128,
   "id": "3de3f537",
   "metadata": {},
   "outputs": [
    {
     "name": "stdout",
     "output_type": "stream",
     "text": [
      "merhaba\n",
      "asılsın\n"
     ]
    }
   ],
   "source": [
    "print(\"merhaba\\nasılsın\")"
   ]
  },
  {
   "cell_type": "code",
   "execution_count": 131,
   "id": "c6d44043",
   "metadata": {},
   "outputs": [
    {
     "name": "stdout",
     "output_type": "stream",
     "text": [
      "merhaba\n",
      "asılsın\\iyi misin\n"
     ]
    }
   ],
   "source": [
    "print(\"merhaba\\nasılsın\\iyi misin\")"
   ]
  },
  {
   "cell_type": "code",
   "execution_count": 137,
   "id": "754d37bc",
   "metadata": {},
   "outputs": [
    {
     "name": "stdout",
     "output_type": "stream",
     "text": [
      "ocak\\şubat\\mart\n"
     ]
    }
   ],
   "source": [
    "print (\"ocak\\şubat\\mart\")"
   ]
  },
  {
   "cell_type": "code",
   "execution_count": 106,
   "id": "50e5a305",
   "metadata": {},
   "outputs": [
    {
     "name": "stdout",
     "output_type": "stream",
     "text": [
      "1 3 4 6 8 9 10\n"
     ]
    }
   ],
   "source": [
    "print(1,3,4,6,8,9,10)"
   ]
  },
  {
   "cell_type": "code",
   "execution_count": 107,
   "id": "1acceb46",
   "metadata": {},
   "outputs": [
    {
     "name": "stdout",
     "output_type": "stream",
     "text": [
      "3.4.6.7.8.9\n"
     ]
    }
   ],
   "source": [
    "print(3,4,6,7,8,9,sep=\".\")"
   ]
  },
  {
   "cell_type": "code",
   "execution_count": 122,
   "id": "b6203d9b",
   "metadata": {},
   "outputs": [
    {
     "name": "stdout",
     "output_type": "stream",
     "text": [
      "3/01/2023\n"
     ]
    }
   ],
   "source": [
    "print(\"3\",\"01\",\"2023\",sep = \"/\")"
   ]
  },
  {
   "cell_type": "code",
   "execution_count": 111,
   "id": "15d541ce",
   "metadata": {},
   "outputs": [
    {
     "name": "stdout",
     "output_type": "stream",
     "text": [
      "bilal\n",
      "seyfu\n",
      "techdil\n"
     ]
    }
   ],
   "source": [
    "print(\"bilal\",\"seyfu\",\"techdil\",sep=\"\\n\")"
   ]
  },
  {
   "cell_type": "code",
   "execution_count": 115,
   "id": "fc51c816",
   "metadata": {},
   "outputs": [
    {
     "name": "stdout",
     "output_type": "stream",
     "text": [
      "p y t o n\n"
     ]
    }
   ],
   "source": [
    "print(*\"pyton\")"
   ]
  },
  {
   "cell_type": "code",
   "execution_count": 116,
   "id": "b90f87f6",
   "metadata": {},
   "outputs": [
    {
     "name": "stdout",
     "output_type": "stream",
     "text": [
      "p.y.t.o.n\n"
     ]
    }
   ],
   "source": [
    "print(*\"pyton\",sep=\".\")"
   ]
  },
  {
   "cell_type": "code",
   "execution_count": 118,
   "id": "a00489d2",
   "metadata": {},
   "outputs": [
    {
     "name": "stdout",
     "output_type": "stream",
     "text": [
      "p\n",
      "y\n",
      "t\n",
      "o\n",
      "n\n"
     ]
    }
   ],
   "source": [
    "print (*\"pyton\",sep=\"\\n\")"
   ]
  },
  {
   "cell_type": "code",
   "execution_count": 120,
   "id": "1f8169f5",
   "metadata": {},
   "outputs": [
    {
     "name": "stdout",
     "output_type": "stream",
     "text": [
      "b.i.l.a.l\n"
     ]
    }
   ],
   "source": [
    "print(*\"bilal\",sep=\".\")"
   ]
  },
  {
   "cell_type": "code",
   "execution_count": 142,
   "id": "253b166a",
   "metadata": {},
   "outputs": [
    {
     "name": "stdout",
     "output_type": "stream",
     "text": [
      "b\t\t\t\t\t\tl\n"
     ]
    }
   ],
   "source": [
    "print (\"b\\t\\t\\t\\t\\t\\tl\")"
   ]
  },
  {
   "cell_type": "code",
   "execution_count": 147,
   "id": "8f75c1fa",
   "metadata": {},
   "outputs": [
    {
     "data": {
      "text/plain": [
       "'1.2373.4322.789'"
      ]
     },
     "execution_count": 147,
     "metadata": {},
     "output_type": "execute_result"
    }
   ],
   "source": [
    "\"{}{}{}\".format(1.237,3.432,2.789)"
   ]
  },
  {
   "cell_type": "code",
   "execution_count": 161,
   "id": "f454609e",
   "metadata": {},
   "outputs": [
    {
     "name": "stdout",
     "output_type": "stream",
     "text": [
      "5 + b 'nın toplamı 4 'dır\n"
     ]
    }
   ],
   "source": [
    "a=5\n",
    "b=4\n",
    "print (\"{} + {} 'nın toplamı {} 'dır\". format (a,b,a+b))"
   ]
  },
  {
   "cell_type": "code",
   "execution_count": 159,
   "id": "4e7403b8",
   "metadata": {},
   "outputs": [
    {
     "name": "stdout",
     "output_type": "stream",
     "text": [
      "4 + 4 'nın toplamı 8 'dır\n"
     ]
    }
   ],
   "source": [
    "a=4\n",
    "b=4\n",
    "print (\"{} + {} 'nın toplamı {} 'dır\".format( a,b,a+b))"
   ]
  },
  {
   "cell_type": "code",
   "execution_count": 168,
   "id": "80dc6158",
   "metadata": {},
   "outputs": [
    {
     "data": {
      "text/plain": [
       "'bilal 16 25'"
      ]
     },
     "execution_count": 168,
     "metadata": {},
     "output_type": "execute_result"
    }
   ],
   "source": [
    "\"{1} {2} {0}\". format(25,\"bilal\",16)"
   ]
  },
  {
   "cell_type": "code",
   "execution_count": 172,
   "id": "68678cd7",
   "metadata": {},
   "outputs": [
    {
     "data": {
      "text/plain": [
       "' bilal ın bugün dersivar'"
      ]
     },
     "execution_count": 172,
     "metadata": {},
     "output_type": "execute_result"
    }
   ],
   "source": [
    "\"{1} {0} {2}\". format(\"ın bugün\", \"bilal\" ,\"dersivar\")"
   ]
  },
  {
   "cell_type": "code",
   "execution_count": 173,
   "id": "63f77bb0",
   "metadata": {},
   "outputs": [
    {
     "data": {
      "text/plain": [
       "'1.24 3.5 6.9999'"
      ]
     },
     "execution_count": 173,
     "metadata": {},
     "output_type": "execute_result"
    }
   ],
   "source": [
    "\"{:.2f} {:.1f} {:.4f}\". format(1.238,3.457,6.999873)"
   ]
  },
  {
   "cell_type": "code",
   "execution_count": 180,
   "id": "94060c61",
   "metadata": {},
   "outputs": [
    {
     "name": "stdout",
     "output_type": "stream",
     "text": [
      "<class 'int'>\n"
     ]
    }
   ],
   "source": [
    "a=79\n",
    "print (type(a))"
   ]
  },
  {
   "cell_type": "code",
   "execution_count": null,
   "id": "529705b1",
   "metadata": {},
   "outputs": [],
   "source": [
    "a="
   ]
  }
 ],
 "metadata": {
  "kernelspec": {
   "display_name": "Python 3 (ipykernel)",
   "language": "python",
   "name": "python3"
  },
  "language_info": {
   "codemirror_mode": {
    "name": "ipython",
    "version": 3
   },
   "file_extension": ".py",
   "mimetype": "text/x-python",
   "name": "python",
   "nbconvert_exporter": "python",
   "pygments_lexer": "ipython3",
   "version": "3.9.13"
  }
 },
 "nbformat": 4,
 "nbformat_minor": 5
}
