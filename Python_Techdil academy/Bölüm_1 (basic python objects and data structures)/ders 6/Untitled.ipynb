{
 "cells": [
  {
   "cell_type": "code",
   "execution_count": 3,
   "id": "8f8d40b4",
   "metadata": {},
   "outputs": [
    {
     "data": {
      "text/plain": [
       "['rice', 3, 'elma', 8, 'tavuk', 33, 67]"
      ]
     },
     "execution_count": 3,
     "metadata": {},
     "output_type": "execute_result"
    }
   ],
   "source": [
    "liste=[\"rice\",3,\"elma\",8,\"tavuk\",33,67]\n",
    "liste"
   ]
  },
  {
   "cell_type": "code",
   "execution_count": 4,
   "id": "951e2ff3",
   "metadata": {},
   "outputs": [
    {
     "data": {
      "text/plain": [
       "[1, 2, 3, 4, 5, 6, 7, 89]"
      ]
     },
     "execution_count": 4,
     "metadata": {},
     "output_type": "execute_result"
    }
   ],
   "source": [
    "liste2=[1,2,3,4,5,6,7,89,]\n",
    "liste2"
   ]
  },
  {
   "cell_type": "code",
   "execution_count": 5,
   "id": "87c75f6e",
   "metadata": {},
   "outputs": [
    {
     "data": {
      "text/plain": [
       "[]"
      ]
     },
     "execution_count": 5,
     "metadata": {},
     "output_type": "execute_result"
    }
   ],
   "source": [
    "boşliste=[]\n",
    "boşliste"
   ]
  },
  {
   "cell_type": "code",
   "execution_count": 19,
   "id": "81aaa2cb",
   "metadata": {},
   "outputs": [
    {
     "data": {
      "text/plain": [
       "[]"
      ]
     },
     "execution_count": 19,
     "metadata": {},
     "output_type": "execute_result"
    }
   ],
   "source": [
    "boşliste= list()\n",
    "boşliste"
   ]
  },
  {
   "cell_type": "code",
   "execution_count": 22,
   "id": "4d9d234b",
   "metadata": {},
   "outputs": [
    {
     "data": {
      "text/plain": [
       "15"
      ]
     },
     "execution_count": 22,
     "metadata": {},
     "output_type": "execute_result"
    }
   ],
   "source": [
    "liste3=[1,2,3,4,5,6,7,8,9,0,1,11,22,36,39]\n",
    "len (liste3)"
   ]
  },
  {
   "cell_type": "code",
   "execution_count": 46,
   "id": "1ce6c749",
   "metadata": {
    "scrolled": true
   },
   "outputs": [
    {
     "data": {
      "text/plain": [
       "['h', 'e', 'l', 'l', 'o', 'n', 'a', 'b', 'e', 'r']"
      ]
     },
     "execution_count": 46,
     "metadata": {},
     "output_type": "execute_result"
    }
   ],
   "source": [
    "a =\"hellonaber\"\n",
    "liste = list(a)\n",
    "liste"
   ]
  },
  {
   "cell_type": "code",
   "execution_count": 41,
   "id": "82b2d41f",
   "metadata": {},
   "outputs": [
    {
     "data": {
      "text/plain": [
       "['m', 'e', 'r', 'h', 'a', 'b', 'a']"
      ]
     },
     "execution_count": 41,
     "metadata": {},
     "output_type": "execute_result"
    }
   ],
   "source": [
    "s = \"merhaba\"\n",
    "liste4= list(s)\n",
    "liste4"
   ]
  },
  {
   "cell_type": "code",
   "execution_count": 86,
   "id": "d59d3963",
   "metadata": {},
   "outputs": [
    {
     "data": {
      "text/plain": [
       "[1, 2, 3, 4, 5, 6, 7, 8, 9, 10, 11, 12, 13]"
      ]
     },
     "execution_count": 86,
     "metadata": {},
     "output_type": "execute_result"
    }
   ],
   "source": [
    "liste = [1,2,3,4,5,6,7,8,9,10,11,12,13,]\n",
    "liste"
   ]
  },
  {
   "cell_type": "code",
   "execution_count": 87,
   "id": "494ac117",
   "metadata": {},
   "outputs": [
    {
     "data": {
      "text/plain": [
       "1"
      ]
     },
     "execution_count": 87,
     "metadata": {},
     "output_type": "execute_result"
    }
   ],
   "source": [
    "liste[0]"
   ]
  },
  {
   "cell_type": "code",
   "execution_count": 88,
   "id": "2de05df6",
   "metadata": {},
   "outputs": [
    {
     "data": {
      "text/plain": [
       "9"
      ]
     },
     "execution_count": 88,
     "metadata": {},
     "output_type": "execute_result"
    }
   ],
   "source": [
    "liste[8]"
   ]
  },
  {
   "cell_type": "code",
   "execution_count": 89,
   "id": "16ac6b16",
   "metadata": {},
   "outputs": [
    {
     "data": {
      "text/plain": [
       "5"
      ]
     },
     "execution_count": 89,
     "metadata": {},
     "output_type": "execute_result"
    }
   ],
   "source": [
    "liste[4]"
   ]
  },
  {
   "cell_type": "code",
   "execution_count": 90,
   "id": "e2104e23",
   "metadata": {},
   "outputs": [
    {
     "data": {
      "text/plain": [
       "13"
      ]
     },
     "execution_count": 90,
     "metadata": {},
     "output_type": "execute_result"
    }
   ],
   "source": [
    "liste[len(liste)-1]"
   ]
  },
  {
   "cell_type": "code",
   "execution_count": 91,
   "id": "24ae0cbc",
   "metadata": {},
   "outputs": [
    {
     "data": {
      "text/plain": [
       "9"
      ]
     },
     "execution_count": 91,
     "metadata": {},
     "output_type": "execute_result"
    }
   ],
   "source": [
    "liste[-5]"
   ]
  },
  {
   "cell_type": "code",
   "execution_count": 95,
   "id": "b9d1a516",
   "metadata": {},
   "outputs": [
    {
     "data": {
      "text/plain": [
       "12"
      ]
     },
     "execution_count": 95,
     "metadata": {},
     "output_type": "execute_result"
    }
   ],
   "source": [
    "liste[-2]"
   ]
  },
  {
   "cell_type": "code",
   "execution_count": 96,
   "id": "573f92ac",
   "metadata": {},
   "outputs": [
    {
     "data": {
      "text/plain": [
       "1"
      ]
     },
     "execution_count": 96,
     "metadata": {},
     "output_type": "execute_result"
    }
   ],
   "source": [
    "liste[-len(liste)]"
   ]
  },
  {
   "cell_type": "code",
   "execution_count": 100,
   "id": "a865ccbe",
   "metadata": {},
   "outputs": [
    {
     "data": {
      "text/plain": [
       "[1, 2, 3, 4, 5, 6, 7]"
      ]
     },
     "execution_count": 100,
     "metadata": {},
     "output_type": "execute_result"
    }
   ],
   "source": [
    " liste[:7]"
   ]
  },
  {
   "cell_type": "code",
   "execution_count": 106,
   "id": "692557d8",
   "metadata": {},
   "outputs": [
    {
     "data": {
      "text/plain": [
       "[3, 4, 5, 6, 7, 8, 9]"
      ]
     },
     "execution_count": 106,
     "metadata": {},
     "output_type": "execute_result"
    }
   ],
   "source": [
    "liste[2:9]"
   ]
  },
  {
   "cell_type": "code",
   "execution_count": 114,
   "id": "20e09632",
   "metadata": {},
   "outputs": [
    {
     "data": {
      "text/plain": [
       "[8, 9, 10, 11, 12, 13]"
      ]
     },
     "execution_count": 114,
     "metadata": {},
     "output_type": "execute_result"
    }
   ],
   "source": [
    "liste[7:]"
   ]
  },
  {
   "cell_type": "code",
   "execution_count": 116,
   "id": "c328a218",
   "metadata": {},
   "outputs": [
    {
     "data": {
      "text/plain": [
       "[1, 4, 7, 10, 13]"
      ]
     },
     "execution_count": 116,
     "metadata": {},
     "output_type": "execute_result"
    }
   ],
   "source": [
    "liste[::3]"
   ]
  },
  {
   "cell_type": "code",
   "execution_count": 118,
   "id": "175b8e63",
   "metadata": {},
   "outputs": [
    {
     "data": {
      "text/plain": [
       "[13, 12, 11, 10, 9, 8, 7, 6, 5, 4, 3, 2, 1]"
      ]
     },
     "execution_count": 118,
     "metadata": {},
     "output_type": "execute_result"
    }
   ],
   "source": [
    "liste[::-1]"
   ]
  },
  {
   "cell_type": "code",
   "execution_count": 120,
   "id": "23dc8ab1",
   "metadata": {},
   "outputs": [
    {
     "data": {
      "text/plain": [
       "[1, 2, 3, 4, 5, 6, 7, 8, 9, 10]"
      ]
     },
     "execution_count": 120,
     "metadata": {},
     "output_type": "execute_result"
    }
   ],
   "source": [
    "liste1=[1,2,3,4,5,]\n",
    "liste2=[6,7,8,9,10,]\n",
    "liste1+liste2"
   ]
  },
  {
   "cell_type": "code",
   "execution_count": 149,
   "id": "4adf12f6",
   "metadata": {},
   "outputs": [],
   "source": [
    "liste=[1,2,3,4,5,6,7]\n",
    "liste=liste+[\"bilal\"]"
   ]
  },
  {
   "cell_type": "code",
   "execution_count": 150,
   "id": "4ab6b982",
   "metadata": {},
   "outputs": [
    {
     "data": {
      "text/plain": [
       "[1, 2, 3, 4, 5, 6, 7, 'bilal']"
      ]
     },
     "execution_count": 150,
     "metadata": {},
     "output_type": "execute_result"
    }
   ],
   "source": [
    "liste"
   ]
  },
  {
   "cell_type": "code",
   "execution_count": 233,
   "id": "94a29cf8",
   "metadata": {},
   "outputs": [],
   "source": [
    "liste[0] = 33"
   ]
  },
  {
   "cell_type": "code",
   "execution_count": 234,
   "id": "0eb51f47",
   "metadata": {},
   "outputs": [
    {
     "data": {
      "text/plain": [
       "[33, 'kiraz', 'cam', 'armut']"
      ]
     },
     "execution_count": 234,
     "metadata": {},
     "output_type": "execute_result"
    }
   ],
   "source": [
    "liste"
   ]
  },
  {
   "cell_type": "code",
   "execution_count": 153,
   "id": "67bcad05",
   "metadata": {},
   "outputs": [],
   "source": [
    "liste [:3] = [57,99,44]"
   ]
  },
  {
   "cell_type": "code",
   "execution_count": 154,
   "id": "58f7bee6",
   "metadata": {},
   "outputs": [
    {
     "data": {
      "text/plain": [
       "[57, 99, 44, 4, 5, 6, 7, 'bilal']"
      ]
     },
     "execution_count": 154,
     "metadata": {},
     "output_type": "execute_result"
    }
   ],
   "source": [
    "liste"
   ]
  },
  {
   "cell_type": "code",
   "execution_count": 161,
   "id": "93e57eaf",
   "metadata": {},
   "outputs": [
    {
     "data": {
      "text/plain": [
       "[1, 2, 3, 4, 5, 1, 2, 3, 4, 5, 1, 2, 3, 4, 5]"
      ]
     },
     "execution_count": 161,
     "metadata": {},
     "output_type": "execute_result"
    }
   ],
   "source": [
    "liste = [1,2,3,4,5,]\n",
    "liste*3"
   ]
  },
  {
   "cell_type": "code",
   "execution_count": 169,
   "id": "145bb73f",
   "metadata": {},
   "outputs": [
    {
     "data": {
      "text/plain": [
       "[1, 2, 3, 4, 5, 6, 78]"
      ]
     },
     "execution_count": 169,
     "metadata": {},
     "output_type": "execute_result"
    }
   ],
   "source": [
    "liste = [1,2,3,4,5,6,]\n",
    "liste.append(78)\n",
    "liste"
   ]
  },
  {
   "cell_type": "code",
   "execution_count": 172,
   "id": "c8078ef9",
   "metadata": {},
   "outputs": [],
   "source": [
    "liste.append(\"iblal\")"
   ]
  },
  {
   "cell_type": "code",
   "execution_count": 173,
   "id": "04fd4d1a",
   "metadata": {},
   "outputs": [
    {
     "data": {
      "text/plain": [
       "[1, 2, 3, 4, 5, 6, 78, 'iblal']"
      ]
     },
     "execution_count": 173,
     "metadata": {},
     "output_type": "execute_result"
    }
   ],
   "source": [
    "liste"
   ]
  },
  {
   "cell_type": "code",
   "execution_count": 180,
   "id": "b5589dda",
   "metadata": {},
   "outputs": [
    {
     "data": {
      "text/plain": [
       "4"
      ]
     },
     "execution_count": 180,
     "metadata": {},
     "output_type": "execute_result"
    }
   ],
   "source": [
    "liste = [1,2,3,4,5,6,]\n",
    "liste.pop(3)"
   ]
  },
  {
   "cell_type": "code",
   "execution_count": 181,
   "id": "cfcfe7cf",
   "metadata": {},
   "outputs": [
    {
     "data": {
      "text/plain": [
       "[1, 2, 3, 5, 6]"
      ]
     },
     "execution_count": 181,
     "metadata": {},
     "output_type": "execute_result"
    }
   ],
   "source": [
    "liste"
   ]
  },
  {
   "cell_type": "code",
   "execution_count": 183,
   "id": "0ce14c51",
   "metadata": {},
   "outputs": [],
   "source": [
    "elelman = liste.pop(4)"
   ]
  },
  {
   "cell_type": "code",
   "execution_count": 187,
   "id": "aefa5d80",
   "metadata": {},
   "outputs": [
    {
     "data": {
      "text/plain": [
       "6"
      ]
     },
     "execution_count": 187,
     "metadata": {},
     "output_type": "execute_result"
    }
   ],
   "source": [
    "elelman"
   ]
  },
  {
   "cell_type": "markdown",
   "id": "01bbb31d",
   "metadata": {},
   "source": []
  },
  {
   "cell_type": "code",
   "execution_count": 188,
   "id": "1221c4d1",
   "metadata": {},
   "outputs": [
    {
     "data": {
      "text/plain": [
       "[1, 2, 3, 5]"
      ]
     },
     "execution_count": 188,
     "metadata": {},
     "output_type": "execute_result"
    }
   ],
   "source": [
    "liste"
   ]
  },
  {
   "cell_type": "code",
   "execution_count": 189,
   "id": "8b033306",
   "metadata": {},
   "outputs": [
    {
     "data": {
      "text/plain": [
       "[1, 2, 3, 5, 'bilal']"
      ]
     },
     "execution_count": 189,
     "metadata": {},
     "output_type": "execute_result"
    }
   ],
   "source": [
    "liste.append(\"bilal\")\n",
    "liste"
   ]
  },
  {
   "cell_type": "code",
   "execution_count": 190,
   "id": "75fb6def",
   "metadata": {},
   "outputs": [
    {
     "data": {
      "text/plain": [
       "'bilal'"
      ]
     },
     "execution_count": 190,
     "metadata": {},
     "output_type": "execute_result"
    }
   ],
   "source": [
    "liste.pop()"
   ]
  },
  {
   "cell_type": "code",
   "execution_count": 200,
   "id": "c88a231a",
   "metadata": {},
   "outputs": [
    {
     "data": {
      "text/plain": [
       "[33, 45, 77, 89, 68, 53, 37]"
      ]
     },
     "execution_count": 200,
     "metadata": {},
     "output_type": "execute_result"
    }
   ],
   "source": [
    "liste"
   ]
  },
  {
   "cell_type": "code",
   "execution_count": 201,
   "id": "f4ab808d",
   "metadata": {},
   "outputs": [],
   "source": [
    "liste = [33,45,77,89,68,53]"
   ]
  },
  {
   "cell_type": "code",
   "execution_count": 202,
   "id": "c744b2e4",
   "metadata": {},
   "outputs": [
    {
     "ename": "IndexError",
     "evalue": "list index out of range",
     "output_type": "error",
     "traceback": [
      "\u001b[1;31m---------------------------------------------------------------------------\u001b[0m",
      "\u001b[1;31mIndexError\u001b[0m                                Traceback (most recent call last)",
      "\u001b[1;32m~\\AppData\\Local\\Temp\\ipykernel_23536\\2992191291.py\u001b[0m in \u001b[0;36m<module>\u001b[1;34m\u001b[0m\n\u001b[1;32m----> 1\u001b[1;33m \u001b[0mliste\u001b[0m\u001b[1;33m[\u001b[0m\u001b[1;36m35\u001b[0m\u001b[1;33m]\u001b[0m\u001b[1;33m\u001b[0m\u001b[1;33m\u001b[0m\u001b[0m\n\u001b[0m",
      "\u001b[1;31mIndexError\u001b[0m: list index out of range"
     ]
    }
   ],
   "source": [
    "liste[35]"
   ]
  },
  {
   "cell_type": "code",
   "execution_count": 209,
   "id": "bc267652",
   "metadata": {},
   "outputs": [
    {
     "data": {
      "text/plain": [
       "[0, 1, 4, 8, 10, 13, 19, 23, 36, 45, 180, 360]"
      ]
     },
     "execution_count": 209,
     "metadata": {},
     "output_type": "execute_result"
    }
   ],
   "source": [
    "liste = [23,45,13,8,1,0,4,10,19,36,180,360]\n",
    "liste.sort()\n",
    "liste"
   ]
  },
  {
   "cell_type": "code",
   "execution_count": 218,
   "id": "d93e7e6d",
   "metadata": {},
   "outputs": [
    {
     "data": {
      "text/plain": [
       "['tavuk', 'karpuz', '90pilav', '40armut']"
      ]
     },
     "execution_count": 218,
     "metadata": {},
     "output_type": "execute_result"
    }
   ],
   "source": [
    "liste.sort(reverse = True)\n",
    "liste"
   ]
  },
  {
   "cell_type": "code",
   "execution_count": 220,
   "id": "994789b4",
   "metadata": {},
   "outputs": [
    {
     "data": {
      "text/plain": [
       "['40armut', '9pilav', 'karpuz', 'tavuk']"
      ]
     },
     "execution_count": 220,
     "metadata": {},
     "output_type": "execute_result"
    }
   ],
   "source": [
    "liste = [\"40armut\",\"9pilav\",\"karpuz\",\"tavuk\"]\n",
    "liste.sort()\n",
    "liste\n"
   ]
  },
  {
   "cell_type": "code",
   "execution_count": 223,
   "id": "625d73a3",
   "metadata": {},
   "outputs": [
    {
     "data": {
      "text/plain": [
       "['zam', 'kiraz', 'cam', 'armut']"
      ]
     },
     "execution_count": 223,
     "metadata": {},
     "output_type": "execute_result"
    }
   ],
   "source": [
    "liste = [\"armut\",\"cam\",\"zam\",\"kiraz\"]\n",
    "liste.sort(reverse = True)\n",
    "liste"
   ]
  },
  {
   "cell_type": "code",
   "execution_count": 224,
   "id": "1a9b3c62",
   "metadata": {},
   "outputs": [],
   "source": [
    "liste1 = [1,2,3,]\n",
    "liste2 = [4,5,6,]\n",
    "liste3 = [7,8,9,10]\n",
    "yeniliste = [liste1,liste2,liste3]"
   ]
  },
  {
   "cell_type": "code",
   "execution_count": 225,
   "id": "dffecb30",
   "metadata": {},
   "outputs": [
    {
     "data": {
      "text/plain": [
       "[[1, 2, 3], [4, 5, 6], [7, 8, 9, 10]]"
      ]
     },
     "execution_count": 225,
     "metadata": {},
     "output_type": "execute_result"
    }
   ],
   "source": [
    "yeniliste"
   ]
  },
  {
   "cell_type": "code",
   "execution_count": 239,
   "id": "e673d752",
   "metadata": {
    "scrolled": true
   },
   "outputs": [
    {
     "data": {
      "text/plain": [
       "10"
      ]
     },
     "execution_count": 239,
     "metadata": {},
     "output_type": "execute_result"
    }
   ],
   "source": [
    "yeniliste[2][3]"
   ]
  },
  {
   "cell_type": "code",
   "execution_count": null,
   "id": "e000590d",
   "metadata": {},
   "outputs": [],
   "source": []
  },
  {
   "cell_type": "code",
   "execution_count": null,
   "id": "11a07736",
   "metadata": {},
   "outputs": [],
   "source": []
  }
 ],
 "metadata": {
  "kernelspec": {
   "display_name": "Python 3 (ipykernel)",
   "language": "python",
   "name": "python3"
  },
  "language_info": {
   "codemirror_mode": {
    "name": "ipython",
    "version": 3
   },
   "file_extension": ".py",
   "mimetype": "text/x-python",
   "name": "python",
   "nbconvert_exporter": "python",
   "pygments_lexer": "ipython3",
   "version": "3.9.13"
  }
 },
 "nbformat": 4,
 "nbformat_minor": 5
}
