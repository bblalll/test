{
 "cells": [
  {
   "cell_type": "code",
   "execution_count": 5,
   "id": "4e485622",
   "metadata": {},
   "outputs": [
    {
     "data": {
      "text/plain": [
       "'bilal seyfu'"
      ]
     },
     "execution_count": 5,
     "metadata": {},
     "output_type": "execute_result"
    }
   ],
   "source": [
    "\"bilal seyfu\""
   ]
  },
  {
   "cell_type": "code",
   "execution_count": 10,
   "id": "15152e63",
   "metadata": {},
   "outputs": [
    {
     "data": {
      "text/plain": [
       "'ERŞAD?'"
      ]
     },
     "execution_count": 10,
     "metadata": {},
     "output_type": "execute_result"
    }
   ],
   "source": [
    "\"ERŞAD?\""
   ]
  },
  {
   "cell_type": "code",
   "execution_count": null,
   "id": "900bf25d",
   "metadata": {},
   "outputs": [],
   "source": []
  }
 ],
 "metadata": {
  "kernelspec": {
   "display_name": "Python 3 (ipykernel)",
   "language": "python",
   "name": "python3"
  },
  "language_info": {
   "codemirror_mode": {
    "name": "ipython",
    "version": 3
   },
   "file_extension": ".py",
   "mimetype": "text/x-python",
   "name": "python",
   "nbconvert_exporter": "python",
   "pygments_lexer": "ipython3",
   "version": "3.9.13"
  }
 },
 "nbformat": 4,
 "nbformat_minor": 5
}
