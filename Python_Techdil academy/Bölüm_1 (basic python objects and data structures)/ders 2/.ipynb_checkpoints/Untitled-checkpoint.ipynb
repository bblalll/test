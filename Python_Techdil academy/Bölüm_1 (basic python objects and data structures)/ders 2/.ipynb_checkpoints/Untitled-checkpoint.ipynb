{
 "cells": [
  {
   "cell_type": "code",
   "execution_count": 1,
   "id": "823d8142",
   "metadata": {},
   "outputs": [
    {
     "data": {
      "text/plain": [
       "30"
      ]
     },
     "execution_count": 1,
     "metadata": {},
     "output_type": "execute_result"
    }
   ],
   "source": [
    "a = 14\n",
    "b = 16\n",
    "a + b"
   ]
  },
  {
   "cell_type": "code",
   "execution_count": 3,
   "id": "3b6c9dd1",
   "metadata": {},
   "outputs": [
    {
     "data": {
      "text/plain": [
       "8.6"
      ]
     },
     "execution_count": 3,
     "metadata": {},
     "output_type": "execute_result"
    }
   ],
   "source": [
    "p = 3.5\n",
    "p = 4.3\n",
    "p + p"
   ]
  },
  {
   "cell_type": "code",
   "execution_count": 10,
   "id": "2603d2ad",
   "metadata": {},
   "outputs": [
    {
     "data": {
      "text/plain": [
       "-61"
      ]
     },
     "execution_count": 10,
     "metadata": {},
     "output_type": "execute_result"
    }
   ],
   "source": [
    "a = 24\n",
    "b = 38\n",
    "c = 47\n",
    "a - b - c"
   ]
  },
  {
   "cell_type": "code",
   "execution_count": 11,
   "id": "414b6242",
   "metadata": {},
   "outputs": [
    {
     "data": {
      "text/plain": [
       "-7"
      ]
     },
     "execution_count": 11,
     "metadata": {},
     "output_type": "execute_result"
    }
   ],
   "source": [
    "k = -2\n",
    "r = 5\n",
    "k - r"
   ]
  },
  {
   "cell_type": "code",
   "execution_count": 17,
   "id": "b6ab4ff2",
   "metadata": {},
   "outputs": [
    {
     "data": {
      "text/plain": [
       "-2.8000000000000003"
      ]
     },
     "execution_count": 17,
     "metadata": {},
     "output_type": "execute_result"
    }
   ],
   "source": [
    "k = 3.1\n",
    "l = 5.9\n",
    "k - l"
   ]
  },
  {
   "cell_type": "code",
   "execution_count": 19,
   "id": "edef6c50",
   "metadata": {},
   "outputs": [
    {
     "data": {
      "text/plain": [
       "20"
      ]
     },
     "execution_count": 19,
     "metadata": {},
     "output_type": "execute_result"
    }
   ],
   "source": [
    "a = 5\n",
    "b = 4\n",
    "a*b"
   ]
  },
  {
   "cell_type": "code",
   "execution_count": 23,
   "id": "0a4361e6",
   "metadata": {},
   "outputs": [
    {
     "data": {
      "text/plain": [
       "14.13"
      ]
     },
     "execution_count": 23,
     "metadata": {},
     "output_type": "execute_result"
    }
   ],
   "source": [
    "a = 3.14\n",
    "b = 4.5\n",
    "a *b"
   ]
  },
  {
   "cell_type": "code",
   "execution_count": 25,
   "id": "55382b64",
   "metadata": {},
   "outputs": [
    {
     "data": {
      "text/plain": [
       "60"
      ]
     },
     "execution_count": 25,
     "metadata": {},
     "output_type": "execute_result"
    }
   ],
   "source": [
    "a = 4\n",
    "b = 5\n",
    "c = 3\n",
    "a * b * c"
   ]
  },
  {
   "cell_type": "code",
   "execution_count": 2,
   "id": "2d8f7d08",
   "metadata": {},
   "outputs": [
    {
     "data": {
      "text/plain": [
       "9.42"
      ]
     },
     "execution_count": 2,
     "metadata": {},
     "output_type": "execute_result"
    }
   ],
   "source": [
    "a = 3\n",
    "b = 3.14\n",
    "a*b"
   ]
  },
  {
   "cell_type": "code",
   "execution_count": 3,
   "id": "24c5360e",
   "metadata": {},
   "outputs": [
    {
     "data": {
      "text/plain": [
       "2.0"
      ]
     },
     "execution_count": 3,
     "metadata": {},
     "output_type": "execute_result"
    }
   ],
   "source": [
    "4/2"
   ]
  },
  {
   "cell_type": "code",
   "execution_count": 4,
   "id": "a6fc5b1f",
   "metadata": {},
   "outputs": [
    {
     "data": {
      "text/plain": [
       "3.3333333333333335"
      ]
     },
     "execution_count": 4,
     "metadata": {},
     "output_type": "execute_result"
    }
   ],
   "source": [
    "10/3"
   ]
  },
  {
   "cell_type": "code",
   "execution_count": 8,
   "id": "ac754ba7",
   "metadata": {},
   "outputs": [
    {
     "data": {
      "text/plain": [
       "2.857142857142857"
      ]
     },
     "execution_count": 8,
     "metadata": {},
     "output_type": "execute_result"
    }
   ],
   "source": [
    "20/7"
   ]
  },
  {
   "cell_type": "code",
   "execution_count": 9,
   "id": "c3cfad49",
   "metadata": {},
   "outputs": [
    {
     "data": {
      "text/plain": [
       "2"
      ]
     },
     "execution_count": 9,
     "metadata": {},
     "output_type": "execute_result"
    }
   ],
   "source": [
    "4//2"
   ]
  },
  {
   "cell_type": "code",
   "execution_count": 11,
   "id": "4917d195",
   "metadata": {},
   "outputs": [
    {
     "data": {
      "text/plain": [
       "7"
      ]
     },
     "execution_count": 11,
     "metadata": {},
     "output_type": "execute_result"
    }
   ],
   "source": [
    "15//2"
   ]
  },
  {
   "cell_type": "code",
   "execution_count": 12,
   "id": "3ecf87e6",
   "metadata": {},
   "outputs": [
    {
     "data": {
      "text/plain": [
       "3"
      ]
     },
     "execution_count": 12,
     "metadata": {},
     "output_type": "execute_result"
    }
   ],
   "source": [
    "60//18"
   ]
  },
  {
   "cell_type": "code",
   "execution_count": 13,
   "id": "530f9a66",
   "metadata": {},
   "outputs": [
    {
     "data": {
      "text/plain": [
       "1"
      ]
     },
     "execution_count": 13,
     "metadata": {},
     "output_type": "execute_result"
    }
   ],
   "source": [
    "13%4"
   ]
  },
  {
   "cell_type": "code",
   "execution_count": 20,
   "id": "405f0aa6",
   "metadata": {},
   "outputs": [
    {
     "data": {
      "text/plain": [
       "2"
      ]
     },
     "execution_count": 20,
     "metadata": {},
     "output_type": "execute_result"
    }
   ],
   "source": [
    "22%4"
   ]
  },
  {
   "cell_type": "code",
   "execution_count": 23,
   "id": "489f0a48",
   "metadata": {},
   "outputs": [
    {
     "data": {
      "text/plain": [
       "3"
      ]
     },
     "execution_count": 23,
     "metadata": {},
     "output_type": "execute_result"
    }
   ],
   "source": [
    "38%5"
   ]
  },
  {
   "cell_type": "code",
   "execution_count": 24,
   "id": "e2ce485e",
   "metadata": {},
   "outputs": [
    {
     "data": {
      "text/plain": [
       "64"
      ]
     },
     "execution_count": 24,
     "metadata": {},
     "output_type": "execute_result"
    }
   ],
   "source": [
    "4**3"
   ]
  },
  {
   "cell_type": "code",
   "execution_count": 34,
   "id": "6bd7342c",
   "metadata": {},
   "outputs": [
    {
     "data": {
      "text/plain": [
       "5764801"
      ]
     },
     "execution_count": 34,
     "metadata": {},
     "output_type": "execute_result"
    }
   ],
   "source": [
    "7**8"
   ]
  },
  {
   "cell_type": "markdown",
   "id": "8eed51b6",
   "metadata": {},
   "source": [
    "2.13**3 "
   ]
  },
  {
   "cell_type": "code",
   "execution_count": 35,
   "id": "154e7b43",
   "metadata": {},
   "outputs": [
    {
     "data": {
      "text/plain": [
       "9.663597"
      ]
     },
     "execution_count": 35,
     "metadata": {},
     "output_type": "execute_result"
    }
   ],
   "source": [
    "2.13**3"
   ]
  },
  {
   "cell_type": "code",
   "execution_count": 46,
   "id": "a52c7798",
   "metadata": {},
   "outputs": [
    {
     "data": {
      "text/plain": [
       "8.0"
      ]
     },
     "execution_count": 46,
     "metadata": {},
     "output_type": "execute_result"
    }
   ],
   "source": [
    "64**0.5"
   ]
  },
  {
   "cell_type": "code",
   "execution_count": 47,
   "id": "e8c2dfab",
   "metadata": {},
   "outputs": [
    {
     "data": {
      "text/plain": [
       "-14"
      ]
     },
     "execution_count": 47,
     "metadata": {},
     "output_type": "execute_result"
    }
   ],
   "source": [
    "a = 14\n",
    "-a"
   ]
  },
  {
   "cell_type": "code",
   "execution_count": 48,
   "id": "985116ba",
   "metadata": {},
   "outputs": [
    {
     "data": {
      "text/plain": [
       "-22"
      ]
     },
     "execution_count": 48,
     "metadata": {},
     "output_type": "execute_result"
    }
   ],
   "source": [
    "b = 22\n",
    "-b"
   ]
  },
  {
   "cell_type": "code",
   "execution_count": 51,
   "id": "7a0a14e0",
   "metadata": {},
   "outputs": [
    {
     "data": {
      "text/plain": [
       "-34"
      ]
     },
     "execution_count": 51,
     "metadata": {},
     "output_type": "execute_result"
    }
   ],
   "source": [
    "c = 34\n",
    "-c"
   ]
  },
  {
   "cell_type": "code",
   "execution_count": 4,
   "id": "3b57b114",
   "metadata": {},
   "outputs": [
    {
     "data": {
      "text/plain": [
       "-10.8"
      ]
     },
     "execution_count": 4,
     "metadata": {},
     "output_type": "execute_result"
    }
   ],
   "source": [
    "7+2*3/5-19"
   ]
  },
  {
   "cell_type": "code",
   "execution_count": 7,
   "id": "022b4928",
   "metadata": {},
   "outputs": [
    {
     "data": {
      "text/plain": [
       "-4.5"
      ]
     },
     "execution_count": 7,
     "metadata": {},
     "output_type": "execute_result"
    }
   ],
   "source": [
    "9 + ((3 * 3) /2 ) -18"
   ]
  },
  {
   "cell_type": "code",
   "execution_count": null,
   "id": "de4ead66",
   "metadata": {},
   "outputs": [],
   "source": []
  },
  {
   "cell_type": "code",
   "execution_count": null,
   "id": "afc1e882",
   "metadata": {},
   "outputs": [],
   "source": []
  }
 ],
 "metadata": {
  "kernelspec": {
   "display_name": "Python 3 (ipykernel)",
   "language": "python",
   "name": "python3"
  },
  "language_info": {
   "codemirror_mode": {
    "name": "ipython",
    "version": 3
   },
   "file_extension": ".py",
   "mimetype": "text/x-python",
   "name": "python",
   "nbconvert_exporter": "python",
   "pygments_lexer": "ipython3",
   "version": "3.9.13"
  }
 },
 "nbformat": 4,
 "nbformat_minor": 5
}
