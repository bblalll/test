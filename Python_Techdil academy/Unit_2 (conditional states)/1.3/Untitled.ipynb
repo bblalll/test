{
 "cells": [
  {
   "cell_type": "code",
   "execution_count": 1,
   "id": "bef9b047",
   "metadata": {},
   "outputs": [
    {
     "name": "stdout",
     "output_type": "stream",
     "text": [
      "9\n"
     ]
    }
   ],
   "source": [
    "a = 2\n",
    "b = 3\n",
    "c = 4\n",
    "print(a+b+c)"
   ]
  },
  {
   "cell_type": "code",
   "execution_count": 2,
   "id": "b4b70119",
   "metadata": {},
   "outputs": [
    {
     "name": "stdout",
     "output_type": "stream",
     "text": [
      "Merhaba\n"
     ]
    }
   ],
   "source": [
    "a = 2 # Block 1 \n",
    "\n",
    "if (a == 3):\n",
    "    print(a) # Block 2\n",
    "print(\"Merhaba\") # Block 1 "
   ]
  },
  {
   "cell_type": "code",
   "execution_count": 5,
   "id": "e81a4dc6",
   "metadata": {},
   "outputs": [
    {
     "name": "stdout",
     "output_type": "stream",
     "text": [
      "yaşınızı giriniz:21\n"
     ]
    }
   ],
   "source": [
    "yaş = int(input(\"yaşınızı giriniz:\"))\n",
    "\n",
    "if (yaş<18):\n",
    "    \n",
    "    print(\"bu mekana girebilirsiniz.\")"
   ]
  },
  {
   "cell_type": "code",
   "execution_count": 6,
   "id": "9ccfe28b",
   "metadata": {},
   "outputs": [
    {
     "name": "stdout",
     "output_type": "stream",
     "text": [
      "yaşınızı giriniz:8\n",
      "buraya giremezsiniz.\n"
     ]
    }
   ],
   "source": [
    "yaş = int(input(\"yaşınızı giriniz:\"))\n",
    "\n",
    "if (yaş<18):\n",
    "    \n",
    "    print(\"buraya giremezsiniz.\")\n"
   ]
  },
  {
   "cell_type": "code",
   "execution_count": 9,
   "id": "1e08823e",
   "metadata": {},
   "outputs": [
    {
     "name": "stdout",
     "output_type": "stream",
     "text": [
      "sayı giriniz:0\n"
     ]
    }
   ],
   "source": [
    "sayı = int(input(\"sayı giriniz:\"))\n",
    "\n",
    "if (sayı<0):\n",
    "    \n",
    "    print(\"negatif sayı.\")\n"
   ]
  },
  {
   "cell_type": "code",
   "execution_count": 10,
   "id": "f6652a1b",
   "metadata": {},
   "outputs": [
    {
     "name": "stdout",
     "output_type": "stream",
     "text": [
      "yaşınızı giriniz:63\n",
      "hoşgeldiniz\n"
     ]
    }
   ],
   "source": [
    "yaş = int(input(\"yaşınızı giriniz:\"))\n",
    "\n",
    "if (yaş<18):\n",
    "    \n",
    "    print(\"buraya giremezsiniz.\")\n",
    "print(\"hoşgeldiniz\")"
   ]
  },
  {
   "cell_type": "code",
   "execution_count": 11,
   "id": "80197681",
   "metadata": {},
   "outputs": [
    {
     "name": "stdout",
     "output_type": "stream",
     "text": [
      "yaşınızı giriniz:17\n",
      "buraya giremezsiniz.\n",
      "hoşgeldiniz\n"
     ]
    }
   ],
   "source": [
    "yaş = int(input(\"yaşınızı giriniz:\"))\n",
    "\n",
    "if (yaş<18):\n",
    "    \n",
    "    print(\"buraya giremezsiniz.\")\n",
    "print(\"hoşgeldiniz\")"
   ]
  },
  {
   "cell_type": "code",
   "execution_count": 12,
   "id": "918ab1cf",
   "metadata": {},
   "outputs": [
    {
     "name": "stdout",
     "output_type": "stream",
     "text": [
      "yaşınızı giriniz:63\n",
      "hoşgeldiniz.\n"
     ]
    }
   ],
   "source": [
    "yaş = int(input(\"yaşınızı giriniz:\"))\n",
    "\n",
    "if (yaş<18):\n",
    "    \n",
    "    print(\"buraya giremezsiniz.\")\n",
    "else:\n",
    "    print(\"hoşgeldiniz.\")"
   ]
  },
  {
   "cell_type": "code",
   "execution_count": 13,
   "id": "a1e9c454",
   "metadata": {},
   "outputs": [
    {
     "name": "stdout",
     "output_type": "stream",
     "text": [
      "yaşınızı giriniz:15\n",
      "buraya giremezsiniz.\n"
     ]
    }
   ],
   "source": [
    "yaş = int(input(\"yaşınızı giriniz:\"))\n",
    "\n",
    "if (yaş<18):\n",
    "    \n",
    "    print(\"buraya giremezsiniz.\")\n",
    "else:\n",
    "    print(\"hoşgeldiniz.\")"
   ]
  },
  {
   "cell_type": "code",
   "execution_count": null,
   "id": "72098076",
   "metadata": {},
   "outputs": [],
   "source": []
  }
 ],
 "metadata": {
  "kernelspec": {
   "display_name": "Python 3 (ipykernel)",
   "language": "python",
   "name": "python3"
  },
  "language_info": {
   "codemirror_mode": {
    "name": "ipython",
    "version": 3
   },
   "file_extension": ".py",
   "mimetype": "text/x-python",
   "name": "python",
   "nbconvert_exporter": "python",
   "pygments_lexer": "ipython3",
   "version": "3.9.13"
  }
 },
 "nbformat": 4,
 "nbformat_minor": 5
}
