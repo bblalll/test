{
 "cells": [
  {
   "cell_type": "code",
   "execution_count": 1,
   "id": "eda61014",
   "metadata": {},
   "outputs": [
    {
     "name": "stdout",
     "output_type": "stream",
     "text": [
      "işlemseçiniz:3\n",
      "3.işlemseçildi.\n"
     ]
    }
   ],
   "source": [
    "işlem=int(input(\"işlemseçiniz:\"))\n",
    "\n",
    "if işlem == 1:\n",
    "    print(\"1:işlemseçildi.\")\n",
    "elif işlem == 2:\n",
    "    print(\"2.işlemseçildi.\")\n",
    "elif işlem == 3:\n",
    "    print(\"3.işlemseçildi.\")\n",
    "else:\n",
    "    print(\"geçersizişlem.\")"
   ]
  },
  {
   "cell_type": "code",
   "execution_count": 2,
   "id": "e8e5d371",
   "metadata": {},
   "outputs": [
    {
     "name": "stdout",
     "output_type": "stream",
     "text": [
      "işlemseçiniz:7\n",
      "geçersizişlem.\n"
     ]
    }
   ],
   "source": [
    "işlem=int(input(\"işlemseçiniz:\"))\n",
    "\n",
    "if işlem == 1:\n",
    "    print(\"1:işlemseçildi.\")\n",
    "elif işlem == 2:\n",
    "    print(\"2.işlemseçildi.\")\n",
    "elif işlem == 3:\n",
    "    print(\"3.işlemseçildi.\")\n",
    "else:\n",
    "    print(\"geçersizişlem.\")"
   ]
  },
  {
   "cell_type": "code",
   "execution_count": 4,
   "id": "094bdb8b",
   "metadata": {},
   "outputs": [
    {
     "name": "stdout",
     "output_type": "stream",
     "text": [
      "işlemseçiniz:5\n"
     ]
    }
   ],
   "source": [
    "işlem=int(input(\"işlemseçiniz:\"))\n",
    "\n",
    "if işlem == 1:\n",
    "    print(\"1:işlemseçildi.\")\n",
    "elif işlem == 2:\n",
    "    print(\"2.işlemseçildi.\")\n",
    "elif işlem == 3:\n",
    "    print(\"3.işlemseçildi.\")"
   ]
  },
  {
   "cell_type": "code",
   "execution_count": 6,
   "id": "72cb346a",
   "metadata": {},
   "outputs": [
    {
     "ename": "SyntaxError",
     "evalue": "invalid syntax (3299588854.py, line 3)",
     "output_type": "error",
     "traceback": [
      "\u001b[1;36m  File \u001b[1;32m\"C:\\Users\\bergi\\AppData\\Local\\Temp\\ipykernel_15456\\3299588854.py\"\u001b[1;36m, line \u001b[1;32m3\u001b[0m\n\u001b[1;33m    elif işlem == 1:\u001b[0m\n\u001b[1;37m    ^\u001b[0m\n\u001b[1;31mSyntaxError\u001b[0m\u001b[1;31m:\u001b[0m invalid syntax\n"
     ]
    }
   ],
   "source": [
    "işlem=int(input(\"işlemseçiniz:\"))\n",
    "\n",
    "elif işlem == 1:\n",
    "    print(\"1:işlemseçildi.\")\n",
    "elif işlem == 2:\n",
    "    print(\"2.işlemseçildi.\")\n",
    "elif işlem == 3:\n",
    "    print(\"3.işlemseçildi.\")\n",
    "else:\n",
    "    print(\"geçersizişlem.\")"
   ]
  },
  {
   "cell_type": "code",
   "execution_count": 7,
   "id": "d0cbd591",
   "metadata": {},
   "outputs": [
    {
     "name": "stdout",
     "output_type": "stream",
     "text": [
      "Notunuzu giriniz:90\n",
      "AA\n"
     ]
    }
   ],
   "source": [
    "note = float(input(\"Notunuzu giriniz:\"))\n",
    "\n",
    "if note >= 90:\n",
    "    print(\"AA\")\n",
    "elif note >= 85:\n",
    "    print(\"BA\")\n",
    "elif note >= 90:\n",
    "    print(\"BA\")\n",
    "elif note >= 80:\n",
    "    print(\"BB\")\n",
    "elif note >= 75:\n",
    "    print(\"CB\")\n",
    "elif note >= 70:\n",
    "    print(\"CC\")\n",
    "elif note >= 65:\n",
    "    print(\"DC\")\n",
    "elif note >= 60:\n",
    "    print(\"DD\")\n",
    "else:\n",
    "    print(\"Dersten Kaldınız\")\n"
   ]
  },
  {
   "cell_type": "code",
   "execution_count": null,
   "id": "f2384420",
   "metadata": {},
   "outputs": [],
   "source": []
  }
 ],
 "metadata": {
  "kernelspec": {
   "display_name": "Python 3 (ipykernel)",
   "language": "python",
   "name": "python3"
  },
  "language_info": {
   "codemirror_mode": {
    "name": "ipython",
    "version": 3
   },
   "file_extension": ".py",
   "mimetype": "text/x-python",
   "name": "python",
   "nbconvert_exporter": "python",
   "pygments_lexer": "ipython3",
   "version": "3.9.13"
  }
 },
 "nbformat": 4,
 "nbformat_minor": 5
}
