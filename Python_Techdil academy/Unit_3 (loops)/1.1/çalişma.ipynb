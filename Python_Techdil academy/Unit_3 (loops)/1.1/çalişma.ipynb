{
 "cells": [
  {
   "cell_type": "code",
   "execution_count": 2,
   "id": "df2a3da9",
   "metadata": {},
   "outputs": [
    {
     "data": {
      "text/plain": [
       "True"
      ]
     },
     "execution_count": 2,
     "metadata": {},
     "output_type": "execute_result"
    }
   ],
   "source": [
    "\"a\" in \";merhaba\""
   ]
  },
  {
   "cell_type": "code",
   "execution_count": 4,
   "id": "62b5bcb1",
   "metadata": {},
   "outputs": [
    {
     "data": {
      "text/plain": [
       "True"
      ]
     },
     "execution_count": 4,
     "metadata": {},
     "output_type": "execute_result"
    }
   ],
   "source": [
    "\"mer\" in \"merhaba\""
   ]
  },
  {
   "cell_type": "code",
   "execution_count": 5,
   "id": "f90db86f",
   "metadata": {},
   "outputs": [
    {
     "data": {
      "text/plain": [
       "False"
      ]
     },
     "execution_count": 5,
     "metadata": {},
     "output_type": "execute_result"
    }
   ],
   "source": [
    "\"t\" in \"merhaba\""
   ]
  },
  {
   "cell_type": "code",
   "execution_count": 6,
   "id": "52344b18",
   "metadata": {},
   "outputs": [
    {
     "data": {
      "text/plain": [
       "True"
      ]
     },
     "execution_count": 6,
     "metadata": {},
     "output_type": "execute_result"
    }
   ],
   "source": [
    "4 in [1,2,3,4]"
   ]
  },
  {
   "cell_type": "code",
   "execution_count": 7,
   "id": "17e0425a",
   "metadata": {},
   "outputs": [
    {
     "data": {
      "text/plain": [
       "False"
      ]
     },
     "execution_count": 7,
     "metadata": {},
     "output_type": "execute_result"
    }
   ],
   "source": [
    "10 in [1,2,3,4]"
   ]
  },
  {
   "cell_type": "code",
   "execution_count": 8,
   "id": "dc3c9324",
   "metadata": {},
   "outputs": [
    {
     "data": {
      "text/plain": [
       "False"
      ]
     },
     "execution_count": 8,
     "metadata": {},
     "output_type": "execute_result"
    }
   ],
   "source": [
    "5 in (1,2,3)"
   ]
  },
  {
   "cell_type": "code",
   "execution_count": 13,
   "id": "4d773610",
   "metadata": {},
   "outputs": [
    {
     "name": "stdout",
     "output_type": "stream",
     "text": [
      "1\n",
      "2\n",
      "3\n",
      "4\n",
      "5\n",
      "6\n",
      "7\n"
     ]
    }
   ],
   "source": [
    "liste = [1,2,3,4,5,6,7]\n",
    "\n",
    "for irsad in liste:\n",
    "    print (irsad)"
   ]
  },
  {
   "cell_type": "code",
   "execution_count": 20,
   "id": "7bedb6f3",
   "metadata": {},
   "outputs": [
    {
     "name": "stdout",
     "output_type": "stream",
     "text": [
      "toplam 1\n",
      "toplam 3\n",
      "toplam 6\n",
      "toplam 10\n",
      "toplam 15\n",
      "toplam 21\n",
      "toplam 28\n"
     ]
    }
   ],
   "source": [
    "liste = [1,2,3,4,5,6,7]\n",
    "\n",
    "toplam = 0\n",
    "for elma in liste:\n",
    "    toplam += elma\n",
    "    print(\"toplam\",toplam)"
   ]
  },
  {
   "cell_type": "code",
   "execution_count": 24,
   "id": "f33f024b",
   "metadata": {},
   "outputs": [
    {
     "name": "stdout",
     "output_type": "stream",
     "text": [
      "eleman 2\n",
      "eleman 4\n",
      "eleman 6\n",
      "eleman 8\n"
     ]
    }
   ],
   "source": [
    "liste = [1,2,3,4,5,6,7,8,9,]\n",
    "\n",
    "for eleman in liste:\n",
    "    if eleman %2==0:\n",
    "        print(\"eleman\",eleman)\n",
    "        "
   ]
  },
  {
   "cell_type": "code",
   "execution_count": 25,
   "id": "34a5a931",
   "metadata": {},
   "outputs": [
    {
     "name": "stdout",
     "output_type": "stream",
     "text": [
      "1\n",
      "2\n",
      "2\n",
      "3\n",
      "4\n",
      "4\n",
      "5\n",
      "6\n",
      "6\n",
      "7\n",
      "8\n",
      "8\n",
      "9\n"
     ]
    }
   ],
   "source": [
    "liste = [1,2,3,4,5,6,7,8,9]\n",
    "\n",
    "for eleman in liste:\n",
    "    if eleman % 2 == 0:\n",
    "        print(eleman)\n",
    "    print(eleman)    \n"
   ]
  },
  {
   "cell_type": "code",
   "execution_count": 26,
   "id": "ee49f533",
   "metadata": {},
   "outputs": [
    {
     "name": "stdout",
     "output_type": "stream",
     "text": [
      "p\n",
      "y\n",
      "t\n",
      "h\n",
      "o\n",
      "n\n"
     ]
    }
   ],
   "source": [
    "s = \"python\"\n",
    "\n",
    "for karakter in s:\n",
    "    print(karakter)"
   ]
  },
  {
   "cell_type": "code",
   "execution_count": 1,
   "id": "8f7a5cd4",
   "metadata": {},
   "outputs": [
    {
     "name": "stdout",
     "output_type": "stream",
     "text": [
      "ppp\n",
      "yyy\n",
      "ttt\n",
      "hhh\n",
      "ooo\n",
      "nnn\n"
     ]
    }
   ],
   "source": [
    "s = \"python\"\n",
    "\n",
    "for karakter in s:\n",
    "    print(karakter * 3)"
   ]
  },
  {
   "cell_type": "code",
   "execution_count": 4,
   "id": "643feca2",
   "metadata": {},
   "outputs": [
    {
     "name": "stdout",
     "output_type": "stream",
     "text": [
      "1\n",
      "2\n",
      "3\n",
      "4\n",
      "5\n",
      "6\n",
      "7\n",
      "8\n"
     ]
    }
   ],
   "source": [
    "demet = (1,2,3,4,5,6,7,8)\n",
    "\n",
    "for eleman in demet:\n",
    "    print( eleman)"
   ]
  },
  {
   "cell_type": "code",
   "execution_count": 7,
   "id": "4c5fdbf9",
   "metadata": {},
   "outputs": [
    {
     "name": "stdout",
     "output_type": "stream",
     "text": [
      "(1, 2)\n",
      "(3, 4)\n",
      "(5, 6)\n",
      "(7, 8)\n"
     ]
    }
   ],
   "source": [
    "liste = [(1,2),(3,4),(5,6),(7,8)]\n",
    "for eleman in liste:\n",
    "        print(eleman)"
   ]
  },
  {
   "cell_type": "code",
   "execution_count": 13,
   "id": "ace86834",
   "metadata": {},
   "outputs": [
    {
     "name": "stdout",
     "output_type": "stream",
     "text": [
      "1 2\n",
      "3 4\n",
      "5 6\n",
      "7 8\n"
     ]
    }
   ],
   "source": [
    "liste = [(1,2),(3,4),(5,6),(7,8)]\n",
    "for (a,b) in liste:\n",
    "        print(a,b)"
   ]
  },
  {
   "cell_type": "code",
   "execution_count": 17,
   "id": "9714d17c",
   "metadata": {},
   "outputs": [
    {
     "name": "stdout",
     "output_type": "stream",
     "text": [
      "6\n",
      "120\n",
      "504\n",
      "1320\n"
     ]
    }
   ],
   "source": [
    "liste = [(1,2,3),(4,5,6),(7,8,9),(10,11,12)]\n",
    "for (a,b,c) in liste:\n",
    "        print(a*b*c)"
   ]
  },
  {
   "cell_type": "code",
   "execution_count": 19,
   "id": "6b47f469",
   "metadata": {},
   "outputs": [
    {
     "data": {
      "text/plain": [
       "dict_keys(['bir', 'iki', 'üç', 'dört'])"
      ]
     },
     "execution_count": 19,
     "metadata": {},
     "output_type": "execute_result"
    }
   ],
   "source": [
    "sözlük = {\"bir\":1,\"iki\":2,\"üç\":3,\"dört\":4}\n",
    "sözlük.keys()"
   ]
  },
  {
   "cell_type": "code",
   "execution_count": 20,
   "id": "90cb4884",
   "metadata": {},
   "outputs": [
    {
     "data": {
      "text/plain": [
       "dict_values([1, 2, 3, 4])"
      ]
     },
     "execution_count": 20,
     "metadata": {},
     "output_type": "execute_result"
    }
   ],
   "source": [
    "sözlük.values()"
   ]
  },
  {
   "cell_type": "code",
   "execution_count": 21,
   "id": "50836a95",
   "metadata": {},
   "outputs": [
    {
     "data": {
      "text/plain": [
       "dict_items([('bir', 1), ('iki', 2), ('üç', 3), ('dört', 4)])"
      ]
     },
     "execution_count": 21,
     "metadata": {},
     "output_type": "execute_result"
    }
   ],
   "source": [
    "sözlük.items()"
   ]
  },
  {
   "cell_type": "code",
   "execution_count": 23,
   "id": "e611ab7b",
   "metadata": {},
   "outputs": [
    {
     "name": "stdout",
     "output_type": "stream",
     "text": [
      "bir\n",
      "iki\n",
      "üç\n",
      "dört\n"
     ]
    }
   ],
   "source": [
    "sözlük = {\"bir\":1,\"iki\":2,\"üç\":3,\"dört\":4}\n",
    "\n",
    "for eleman in sözlük.keys():\n",
    "    print(eleman)"
   ]
  },
  {
   "cell_type": "code",
   "execution_count": 24,
   "id": "a91ca7a9",
   "metadata": {},
   "outputs": [
    {
     "name": "stdout",
     "output_type": "stream",
     "text": [
      "1\n",
      "2\n",
      "3\n",
      "4\n"
     ]
    }
   ],
   "source": [
    "sözlük = {\"bir\":1,\"iki\":2,\"üç\":3,\"dört\":4}\n",
    "for eleman in sözlük.values():\n",
    "    print(eleman)"
   ]
  },
  {
   "cell_type": "code",
   "execution_count": null,
   "id": "b8f797d5",
   "metadata": {},
   "outputs": [],
   "source": [
    "sözlük = {\"bir\":1,\"iki\":2,\"üç\":3,\"dört\":4}\n",
    "\n",
    "for (a,b) in sözlük.items():\n",
    "    print(kilit)"
   ]
  }
 ],
 "metadata": {
  "kernelspec": {
   "display_name": "Python 3 (ipykernel)",
   "language": "python",
   "name": "python3"
  },
  "language_info": {
   "codemirror_mode": {
    "name": "ipython",
    "version": 3
   },
   "file_extension": ".py",
   "mimetype": "text/x-python",
   "name": "python",
   "nbconvert_exporter": "python",
   "pygments_lexer": "ipython3",
   "version": "3.9.13"
  }
 },
 "nbformat": 4,
 "nbformat_minor": 5
}
