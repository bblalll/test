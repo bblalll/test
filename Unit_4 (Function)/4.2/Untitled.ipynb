{
 "cells": [
  {
   "cell_type": "code",
   "execution_count": 5,
   "id": "79bbac24",
   "metadata": {},
   "outputs": [],
   "source": [
    "def toplama(a,b,c):\n",
    "    print(\"toplamları\",a+b+c)\n",
    "    \n",
    "def ikiyleçarp(a):\n",
    "    print(\"2 ile çarpılmış hali\",a*2)"
   ]
  },
  {
   "cell_type": "code",
   "execution_count": 8,
   "id": "b7ea2819",
   "metadata": {},
   "outputs": [
    {
     "name": "stdout",
     "output_type": "stream",
     "text": [
      "toplamları 6\n"
     ]
    },
    {
     "ename": "TypeError",
     "evalue": "unsupported operand type(s) for *: 'NoneType' and 'int'",
     "output_type": "error",
     "traceback": [
      "\u001b[1;31m---------------------------------------------------------------------------\u001b[0m",
      "\u001b[1;31mTypeError\u001b[0m                                 Traceback (most recent call last)",
      "\u001b[1;32m~\\AppData\\Local\\Temp\\ipykernel_2400\\550972207.py\u001b[0m in \u001b[0;36m<module>\u001b[1;34m\u001b[0m\n\u001b[0;32m      1\u001b[0m \u001b[0mtoplam\u001b[0m \u001b[1;33m=\u001b[0m \u001b[0mtoplama\u001b[0m\u001b[1;33m(\u001b[0m\u001b[1;36m1\u001b[0m\u001b[1;33m,\u001b[0m\u001b[1;36m2\u001b[0m\u001b[1;33m,\u001b[0m\u001b[1;36m3\u001b[0m\u001b[1;33m)\u001b[0m\u001b[1;33m\u001b[0m\u001b[1;33m\u001b[0m\u001b[0m\n\u001b[0;32m      2\u001b[0m \u001b[1;33m\u001b[0m\u001b[0m\n\u001b[1;32m----> 3\u001b[1;33m \u001b[0mikiyleçarp\u001b[0m\u001b[1;33m(\u001b[0m\u001b[0mtoplam\u001b[0m\u001b[1;33m)\u001b[0m\u001b[1;33m\u001b[0m\u001b[1;33m\u001b[0m\u001b[0m\n\u001b[0m",
      "\u001b[1;32m~\\AppData\\Local\\Temp\\ipykernel_2400\\2378399412.py\u001b[0m in \u001b[0;36mikiyleçarp\u001b[1;34m(a)\u001b[0m\n\u001b[0;32m      3\u001b[0m \u001b[1;33m\u001b[0m\u001b[0m\n\u001b[0;32m      4\u001b[0m \u001b[1;32mdef\u001b[0m \u001b[0mikiyleçarp\u001b[0m\u001b[1;33m(\u001b[0m\u001b[0ma\u001b[0m\u001b[1;33m)\u001b[0m\u001b[1;33m:\u001b[0m\u001b[1;33m\u001b[0m\u001b[1;33m\u001b[0m\u001b[0m\n\u001b[1;32m----> 5\u001b[1;33m     \u001b[0mprint\u001b[0m\u001b[1;33m(\u001b[0m\u001b[1;34m\"2 ile çarpılmış hali\"\u001b[0m\u001b[1;33m,\u001b[0m\u001b[0ma\u001b[0m\u001b[1;33m*\u001b[0m\u001b[1;36m2\u001b[0m\u001b[1;33m)\u001b[0m\u001b[1;33m\u001b[0m\u001b[1;33m\u001b[0m\u001b[0m\n\u001b[0m",
      "\u001b[1;31mTypeError\u001b[0m: unsupported operand type(s) for *: 'NoneType' and 'int'"
     ]
    }
   ],
   "source": [
    "toplam = toplama(1,2,3)\n",
    "\n",
    "ikiyleçarp(toplam)"
   ]
  },
  {
   "cell_type": "code",
   "execution_count": 10,
   "id": "352f3f0e",
   "metadata": {},
   "outputs": [
    {
     "data": {
      "text/plain": [
       "NoneType"
      ]
     },
     "execution_count": 10,
     "metadata": {},
     "output_type": "execute_result"
    }
   ],
   "source": [
    "type(toplam)"
   ]
  },
  {
   "cell_type": "code",
   "execution_count": 17,
   "id": "f5250564",
   "metadata": {},
   "outputs": [],
   "source": [
    "def toplama(a,b,c):\n",
    "    return a+b+c\n",
    "def ikiyleçarp(a):\n",
    "     return a*2"
   ]
  },
  {
   "cell_type": "code",
   "execution_count": 18,
   "id": "1b75113a",
   "metadata": {},
   "outputs": [
    {
     "name": "stdout",
     "output_type": "stream",
     "text": [
      "36\n"
     ]
    }
   ],
   "source": [
    "toplam = toplama(3,6,9)\n",
    "print(ikiyleçarp(toplam))"
   ]
  },
  {
   "cell_type": "code",
   "execution_count": 24,
   "id": "bced7186",
   "metadata": {},
   "outputs": [],
   "source": [
    "def üçleçarp(a):\n",
    "    print(\"1.fonksiyon çaliştı\")\n",
    "    return a*3"
   ]
  },
  {
   "cell_type": "code",
   "execution_count": 29,
   "id": "3cb8ea68",
   "metadata": {},
   "outputs": [],
   "source": [
    "def ikiyletopla(a):\n",
    "    print(\"2.fonksiyon çaliştı\")\n",
    "    return a+2"
   ]
  },
  {
   "cell_type": "code",
   "execution_count": 30,
   "id": "c1ec5493",
   "metadata": {},
   "outputs": [],
   "source": [
    "def dördeböl(a):\n",
    "    print(\"3.fonksiyon çaliştı\")\n",
    "    return a/4"
   ]
  },
  {
   "cell_type": "code",
   "execution_count": 31,
   "id": "33e8fbff",
   "metadata": {},
   "outputs": [
    {
     "name": "stdout",
     "output_type": "stream",
     "text": [
      "1.fonksiyon çaliştı\n",
      "2.fonksiyon çaliştı\n",
      "3.fonksiyon çaliştı\n",
      "4.25\n"
     ]
    }
   ],
   "source": [
    "print(dördeböl(ikiyletopla(üçleçarp(5))))"
   ]
  },
  {
   "cell_type": "code",
   "execution_count": 33,
   "id": "772d0346",
   "metadata": {},
   "outputs": [],
   "source": [
    "def toplama(a,b,c):\n",
    "    return a + b + c\n",
    "    print(\"toplama fonksiyon\")"
   ]
  },
  {
   "cell_type": "code",
   "execution_count": 34,
   "id": "8df9f519",
   "metadata": {},
   "outputs": [
    {
     "name": "stdout",
     "output_type": "stream",
     "text": [
      "162\n"
     ]
    }
   ],
   "source": [
    "print(toplama(8,99,55))"
   ]
  },
  {
   "cell_type": "code",
   "execution_count": 35,
   "id": "e40cfb9a",
   "metadata": {},
   "outputs": [],
   "source": [
    "def toplama(a,b,c):\n",
    "    print(\"toplama fonksiyon\")\n",
    "    return a + b + c\n",
    "    "
   ]
  },
  {
   "cell_type": "code",
   "execution_count": null,
   "id": "890ee873",
   "metadata": {},
   "outputs": [],
   "source": []
  }
 ],
 "metadata": {
  "kernelspec": {
   "display_name": "Python 3 (ipykernel)",
   "language": "python",
   "name": "python3"
  },
  "language_info": {
   "codemirror_mode": {
    "name": "ipython",
    "version": 3
   },
   "file_extension": ".py",
   "mimetype": "text/x-python",
   "name": "python",
   "nbconvert_exporter": "python",
   "pygments_lexer": "ipython3",
   "version": "3.9.13"
  }
 },
 "nbformat": 4,
 "nbformat_minor": 5
}
