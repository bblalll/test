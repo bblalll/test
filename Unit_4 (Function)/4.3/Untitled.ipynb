{
 "cells": [
  {
   "cell_type": "code",
   "execution_count": 5,
   "id": "8ebccb24",
   "metadata": {},
   "outputs": [],
   "source": [
    "def selam(isim):\n",
    "    print(\"selam\",isim)"
   ]
  },
  {
   "cell_type": "code",
   "execution_count": 7,
   "id": "9f002c5b",
   "metadata": {},
   "outputs": [
    {
     "name": "stdout",
     "output_type": "stream",
     "text": [
      "selam bilal\n"
     ]
    }
   ],
   "source": [
    "selam(\"bilal\")"
   ]
  },
  {
   "cell_type": "code",
   "execution_count": 8,
   "id": "7c3a64b8",
   "metadata": {},
   "outputs": [
    {
     "name": "stdout",
     "output_type": "stream",
     "text": [
      "selam seyfu\n"
     ]
    }
   ],
   "source": [
    "selam(\"seyfu\")"
   ]
  },
  {
   "cell_type": "code",
   "execution_count": 9,
   "id": "23400b27",
   "metadata": {},
   "outputs": [
    {
     "ename": "TypeError",
     "evalue": "selam() missing 1 required positional argument: 'isim'",
     "output_type": "error",
     "traceback": [
      "\u001b[1;31m---------------------------------------------------------------------------\u001b[0m",
      "\u001b[1;31mTypeError\u001b[0m                                 Traceback (most recent call last)",
      "\u001b[1;32m~\\AppData\\Local\\Temp\\ipykernel_14972\\47127332.py\u001b[0m in \u001b[0;36m<module>\u001b[1;34m\u001b[0m\n\u001b[1;32m----> 1\u001b[1;33m \u001b[0mselam\u001b[0m\u001b[1;33m(\u001b[0m\u001b[1;33m)\u001b[0m\u001b[1;33m\u001b[0m\u001b[1;33m\u001b[0m\u001b[0m\n\u001b[0m",
      "\u001b[1;31mTypeError\u001b[0m: selam() missing 1 required positional argument: 'isim'"
     ]
    }
   ],
   "source": [
    "selam()"
   ]
  },
  {
   "cell_type": "code",
   "execution_count": 14,
   "id": "7ad5e404",
   "metadata": {},
   "outputs": [],
   "source": [
    "def selam(isim = \"isminiz\"):\n",
    "    print(\"selam\",isim)"
   ]
  },
  {
   "cell_type": "code",
   "execution_count": 23,
   "id": "87754c31",
   "metadata": {},
   "outputs": [
    {
     "name": "stdout",
     "output_type": "stream",
     "text": [
      "selam isminiz\n"
     ]
    }
   ],
   "source": [
    "selam()"
   ]
  },
  {
   "cell_type": "code",
   "execution_count": 24,
   "id": "fa028de6",
   "metadata": {},
   "outputs": [
    {
     "name": "stdout",
     "output_type": "stream",
     "text": [
      "selam bilal\n"
     ]
    }
   ],
   "source": [
    "selam(\"bilal\")"
   ]
  },
  {
   "cell_type": "code",
   "execution_count": 27,
   "id": "ee9c9e9c",
   "metadata": {},
   "outputs": [
    {
     "ename": "SyntaxError",
     "evalue": "invalid syntax (815343216.py, line 1)",
     "output_type": "error",
     "traceback": [
      "\u001b[1;36m  File \u001b[1;32m\"C:\\Users\\bergi\\AppData\\Local\\Temp\\ipykernel_14972\\815343216.py\"\u001b[1;36m, line \u001b[1;32m1\u001b[0m\n\u001b[1;33m    def bilgileri göster(ad = \"bigi yok!\", soyad = \"bilgiyok!\",numara=\"bilgi yok!\"):\u001b[0m\n\u001b[1;37m                  ^\u001b[0m\n\u001b[1;31mSyntaxError\u001b[0m\u001b[1;31m:\u001b[0m invalid syntax\n"
     ]
    }
   ],
   "source": [
    "def bilgileri göster(ad = \"bigi yok!\", soyad = \"bilgiyok!\",numara=\"bilgi yok!\"):\n",
    "    print(\"ad:\",ad, \"soyad:\",soyad, \"numara:\",numara,)"
   ]
  },
  {
   "cell_type": "code",
   "execution_count": 28,
   "id": "74936912",
   "metadata": {},
   "outputs": [],
   "source": [
    "def bilgilerigöster(ad = \"Bilgi Yok\",soyad = \"Bilgi Yok\",numara =  \"Bilgi Yok\"):\n",
    "    print(\"Ad:\",ad,\"Soyad:\",soyad,\"Numara:\",numara)"
   ]
  },
  {
   "cell_type": "code",
   "execution_count": 29,
   "id": "ef0d5bd7",
   "metadata": {},
   "outputs": [
    {
     "name": "stdout",
     "output_type": "stream",
     "text": [
      "Ad: Bilgi Yok Soyad: Bilgi Yok Numara: Bilgi Yok\n"
     ]
    }
   ],
   "source": [
    "bilgilerigöster()"
   ]
  },
  {
   "cell_type": "code",
   "execution_count": 30,
   "id": "eba83d21",
   "metadata": {},
   "outputs": [
    {
     "name": "stdout",
     "output_type": "stream",
     "text": [
      "Ad: bilal Soyad: seyfu Numara: Bilgi Yok\n"
     ]
    }
   ],
   "source": [
    "bilgilerigöster(\"bilal\",\"seyfu\")"
   ]
  },
  {
   "cell_type": "code",
   "execution_count": 31,
   "id": "19f122b8",
   "metadata": {},
   "outputs": [
    {
     "data": {
      "text/plain": [
       "<function __main__.bilgilerigöster(ad='Bilgi Yok', soyad='Bilgi Yok', numara='Bilgi Yok')>"
      ]
     },
     "execution_count": 31,
     "metadata": {},
     "output_type": "execute_result"
    }
   ],
   "source": [
    "bilgilerigöster"
   ]
  },
  {
   "cell_type": "code",
   "execution_count": null,
   "id": "be68fd68",
   "metadata": {},
   "outputs": [],
   "source": []
  }
 ],
 "metadata": {
  "kernelspec": {
   "display_name": "Python 3 (ipykernel)",
   "language": "python",
   "name": "python3"
  },
  "language_info": {
   "codemirror_mode": {
    "name": "ipython",
    "version": 3
   },
   "file_extension": ".py",
   "mimetype": "text/x-python",
   "name": "python",
   "nbconvert_exporter": "python",
   "pygments_lexer": "ipython3",
   "version": "3.9.13"
  }
 },
 "nbformat": 4,
 "nbformat_minor": 5
}
