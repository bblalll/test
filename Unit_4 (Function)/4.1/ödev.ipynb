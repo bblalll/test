{
 "cells": [
  {
   "cell_type": "code",
   "execution_count": 1,
   "id": "b174954b",
   "metadata": {},
   "outputs": [
    {
     "ename": "NameError",
     "evalue": "name 'selam' is not defined",
     "output_type": "error",
     "traceback": [
      "\u001b[1;31m---------------------------------------------------------------------------\u001b[0m",
      "\u001b[1;31mNameError\u001b[0m                                 Traceback (most recent call last)",
      "\u001b[1;32m~\\AppData\\Local\\Temp\\ipykernel_23556\\742321207.py\u001b[0m in \u001b[0;36m<module>\u001b[1;34m\u001b[0m\n\u001b[1;32m----> 1\u001b[1;33m \u001b[0mtype\u001b[0m\u001b[1;33m(\u001b[0m\u001b[0mselam\u001b[0m\u001b[1;33m)\u001b[0m\u001b[1;33m\u001b[0m\u001b[1;33m\u001b[0m\u001b[0m\n\u001b[0m",
      "\u001b[1;31mNameError\u001b[0m: name 'selam' is not defined"
     ]
    }
   ],
   "source": [
    "type(selam)"
   ]
  },
  {
   "cell_type": "code",
   "execution_count": 2,
   "id": "bad10075",
   "metadata": {},
   "outputs": [],
   "source": [
    "def selam():\n",
    "    print(\"selam arkadaşlar\")\n",
    "    print(\"nasıl sınız\")"
   ]
  },
  {
   "cell_type": "code",
   "execution_count": 4,
   "id": "62a791e1",
   "metadata": {},
   "outputs": [
    {
     "data": {
      "text/plain": [
       "function"
      ]
     },
     "execution_count": 4,
     "metadata": {},
     "output_type": "execute_result"
    }
   ],
   "source": [
    "type(selam)"
   ]
  },
  {
   "cell_type": "code",
   "execution_count": 5,
   "id": "30133b6e",
   "metadata": {},
   "outputs": [
    {
     "name": "stdout",
     "output_type": "stream",
     "text": [
      "selam arkadaşlar\n",
      "nasıl sınız\n"
     ]
    }
   ],
   "source": [
    "selam()"
   ]
  },
  {
   "cell_type": "code",
   "execution_count": 6,
   "id": "d11714f7",
   "metadata": {},
   "outputs": [
    {
     "name": "stdout",
     "output_type": "stream",
     "text": [
      "selam arkadaşlar\n",
      "nasıl sınız\n",
      "selam arkadaşlar\n",
      "nasıl sınız\n",
      "selam arkadaşlar\n",
      "nasıl sınız\n",
      "selam arkadaşlar\n",
      "nasıl sınız\n",
      "selam arkadaşlar\n",
      "nasıl sınız\n"
     ]
    }
   ],
   "source": [
    "selam()\n",
    "selam()\n",
    "selam()\n",
    "selam()\n",
    "selam()"
   ]
  },
  {
   "cell_type": "code",
   "execution_count": 7,
   "id": "a5df18b0",
   "metadata": {},
   "outputs": [
    {
     "ename": "TypeError",
     "evalue": "selam() takes 0 positional arguments but 1 was given",
     "output_type": "error",
     "traceback": [
      "\u001b[1;31m---------------------------------------------------------------------------\u001b[0m",
      "\u001b[1;31mTypeError\u001b[0m                                 Traceback (most recent call last)",
      "\u001b[1;32m~\\AppData\\Local\\Temp\\ipykernel_23556\\2146774064.py\u001b[0m in \u001b[0;36m<module>\u001b[1;34m\u001b[0m\n\u001b[1;32m----> 1\u001b[1;33m \u001b[0mselam\u001b[0m\u001b[1;33m(\u001b[0m\u001b[1;34m\"python\"\u001b[0m\u001b[1;33m)\u001b[0m\u001b[1;33m\u001b[0m\u001b[1;33m\u001b[0m\u001b[0m\n\u001b[0m",
      "\u001b[1;31mTypeError\u001b[0m: selam() takes 0 positional arguments but 1 was given"
     ]
    }
   ],
   "source": [
    "selam(\"python\")"
   ]
  },
  {
   "cell_type": "code",
   "execution_count": 10,
   "id": "b9a6c578",
   "metadata": {},
   "outputs": [],
   "source": [
    "def selam(isim):\n",
    "    print(\"merhaba:\",isim)"
   ]
  },
  {
   "cell_type": "code",
   "execution_count": 12,
   "id": "e1ff551e",
   "metadata": {},
   "outputs": [
    {
     "name": "stdout",
     "output_type": "stream",
     "text": [
      "merhaba: bilal\n"
     ]
    }
   ],
   "source": [
    "selam(\"bilal\")"
   ]
  },
  {
   "cell_type": "code",
   "execution_count": 15,
   "id": "540c6859",
   "metadata": {},
   "outputs": [
    {
     "name": "stdout",
     "output_type": "stream",
     "text": [
      "merhaba: ayşe\n"
     ]
    }
   ],
   "source": [
    "selam(\"ayşe\")"
   ]
  },
  {
   "cell_type": "code",
   "execution_count": 22,
   "id": "db308ef8",
   "metadata": {},
   "outputs": [],
   "source": [
    "def toplama(a,b,c):\n",
    "    print(\"toplamları:\",a+b+c)"
   ]
  },
  {
   "cell_type": "code",
   "execution_count": 23,
   "id": "04308701",
   "metadata": {},
   "outputs": [
    {
     "name": "stdout",
     "output_type": "stream",
     "text": [
      "toplamları: 10\n"
     ]
    }
   ],
   "source": [
    "toplama(1,3,6)"
   ]
  },
  {
   "cell_type": "code",
   "execution_count": 24,
   "id": "764217f5",
   "metadata": {},
   "outputs": [
    {
     "name": "stdout",
     "output_type": "stream",
     "text": [
      "toplamları: 198\n"
     ]
    }
   ],
   "source": [
    "toplama(22,99,77)"
   ]
  },
  {
   "cell_type": "code",
   "execution_count": 25,
   "id": "715c294c",
   "metadata": {},
   "outputs": [
    {
     "name": "stdout",
     "output_type": "stream",
     "text": [
      "toplamları: 97\n"
     ]
    }
   ],
   "source": [
    "toplama(2,88,7)"
   ]
  },
  {
   "cell_type": "code",
   "execution_count": 30,
   "id": "66dfb48b",
   "metadata": {},
   "outputs": [],
   "source": [
    "def faktoriyel(sayı):\n",
    "    faktoriyel = 1\n",
    "    \n",
    "    if (sayı == 0 or sayı == 1):\n",
    "        print(\"Faktoriyel\",faktoriyel)\n",
    "        \n",
    "    else:\n",
    "        while(sayı >= 1):\n",
    "            faktoriyel *= sayı\n",
    "            sayı -= 1\n",
    "        print(\"Faktoriyel\",faktoriyel)    "
   ]
  },
  {
   "cell_type": "code",
   "execution_count": 32,
   "id": "1d497e55",
   "metadata": {},
   "outputs": [
    {
     "name": "stdout",
     "output_type": "stream",
     "text": [
      "Faktoriyel 120\n"
     ]
    }
   ],
   "source": [
    "faktoriyel(5)"
   ]
  },
  {
   "cell_type": "code",
   "execution_count": 33,
   "id": "357e8d94",
   "metadata": {},
   "outputs": [
    {
     "name": "stdout",
     "output_type": "stream",
     "text": [
      "Faktoriyel 720\n"
     ]
    }
   ],
   "source": [
    "faktoriyel(6)"
   ]
  },
  {
   "cell_type": "code",
   "execution_count": 34,
   "id": "baff1a3c",
   "metadata": {},
   "outputs": [
    {
     "name": "stdout",
     "output_type": "stream",
     "text": [
      "Faktoriyel 1\n"
     ]
    }
   ],
   "source": [
    "faktoriyel(1)"
   ]
  },
  {
   "cell_type": "code",
   "execution_count": 35,
   "id": "10132c91",
   "metadata": {},
   "outputs": [
    {
     "name": "stdout",
     "output_type": "stream",
     "text": [
      "Faktoriyel 1\n"
     ]
    }
   ],
   "source": [
    "faktoriyel(0)"
   ]
  },
  {
   "cell_type": "code",
   "execution_count": null,
   "id": "90f89780",
   "metadata": {},
   "outputs": [],
   "source": []
  }
 ],
 "metadata": {
  "kernelspec": {
   "display_name": "Python 3 (ipykernel)",
   "language": "python",
   "name": "python3"
  },
  "language_info": {
   "codemirror_mode": {
    "name": "ipython",
    "version": 3
   },
   "file_extension": ".py",
   "mimetype": "text/x-python",
   "name": "python",
   "nbconvert_exporter": "python",
   "pygments_lexer": "ipython3",
   "version": "3.9.13"
  }
 },
 "nbformat": 4,
 "nbformat_minor": 5
}
