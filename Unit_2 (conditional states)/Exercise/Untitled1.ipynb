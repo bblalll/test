{
 "cells": [
  {
   "cell_type": "code",
   "execution_count": 1,
   "id": "243783e3",
   "metadata": {},
   "outputs": [
    {
     "name": "stdout",
     "output_type": "stream",
     "text": [
      "-----------------------------------\n",
      "     \n",
      "1.toplama işlemi\n",
      "\n",
      "2.bölme işlemi\n",
      "\n",
      "3.çarpma işlemi\n",
      "\n",
      "4.çıkarma işlmei\n",
      "\n",
      "-------------------------------------------\n",
      "\n",
      "birinci sayı:79\n",
      "ikinci sayı:89\n",
      "işlem numarasını giriniz:3\n",
      "79 ile 89 nin çarpımı 7031 dır.\n"
     ]
    }
   ],
   "source": [
    "print(\"\"\"-----------------------------------\n",
    "     \n",
    "1.toplama işlemi\n",
    "\n",
    "2.bölme işlemi\n",
    "\n",
    "3.çarpma işlemi\n",
    "\n",
    "4.çıkarma işlmei\n",
    "\n",
    "-------------------------------------------\n",
    "\"\"\")\n",
    "a = int(input(\"birinci sayı:\"))\n",
    "b = int(input(\"ikinci sayı:\"))\n",
    "\n",
    "işlem = input (\"işlem numarasını giriniz:\")\n",
    "\n",
    "if(işlem == \"1\"):\n",
    "    print(\"{} ile {} nin toplamı {} dır.\".format(a,b,a+b))\n",
    "\n",
    "elif(işlem == \"2\"):\n",
    "    print(\"{} ın {} 'e bölü {} dır.\".format(a,b,a/b))\n",
    "\n",
    "elif(işlem == \"3\"):\n",
    "    print(\"{} ile {} nin çarpımı {} dır.\".format(a,b,a*b))\n",
    "\n",
    "elif(işlem == \"4\"):\n",
    "    print(\"{} ile {} nin farkı {} dır.\".format(a,b,a-b))\n",
    "\n",
    "else:\n",
    "    \n",
    "    \n",
    "    \n",
    "    print(\"lütfen geçerlibirsayı giriniz....\")"
   ]
  },
  {
   "cell_type": "code",
   "execution_count": null,
   "id": "3bdfd6ef",
   "metadata": {},
   "outputs": [],
   "source": []
  },
  {
   "cell_type": "code",
   "execution_count": 2,
   "id": "26df52e8",
   "metadata": {},
   "outputs": [
    {
     "name": "stdout",
     "output_type": "stream",
     "text": [
      "okula hoşgeldiniz!!!!!\n",
      "adınızı girin.bilal\n",
      "soyadınızı girin.seyfu\n",
      "hangi derse katıldınız.ders\n",
      "bilgiler kayd ediliyor.......\n",
      "adınızı girin:bilal\n",
      "soyadınızı girin:seyfu\n",
      "hangi derse katıldınız:ders\n",
      "\n",
      "bilgiler kaydedildi.......\n"
     ]
    }
   ],
   "source": [
    "print(\"okula hoşgeldiniz!!!!!\")\n",
    "\n",
    "ad=input(\"adınızı girin.\")\n",
    "soyad=input(\"soyadınızı girin.\")\n",
    "ders=input(\"hangi derse katıldınız.\")\n",
    "\n",
    "bilgiler=[ad,soyad,ders]\n",
    "\n",
    "print(\"bilgiler kayd ediliyor.......\")\n",
    "\n",
    "print(\"adınızı girin:{}\\nsoyadınızı girin:{}\\nhangi derse katıldınız:{}\\n\".format(bilgiler[0],bilgiler[1],bilgiler[2]))\n",
    "\n",
    "print(\"bilgiler kaydedildi.......\")"
   ]
  },
  {
   "cell_type": "code",
   "execution_count": 10,
   "id": "a63bf3ed",
   "metadata": {},
   "outputs": [
    {
     "name": "stdout",
     "output_type": "stream",
     "text": [
      "**********\n",
      "kullanıcı girişi\n",
      "**********\n",
      "\n",
      "kullanıcı adınızı girin:bilal\n",
      "parolanızı girin:123456\n",
      "Parola hatalı......\n"
     ]
    }
   ],
   "source": [
    "print(\"**********\\nkullanıcı girişi\\n**********\\n\")\n",
    "\n",
    "sys_kul_adı = \"bilal\"\n",
    "\n",
    "sys_parola = \"1234567\"\n",
    "\n",
    "kullanıcı_adı = input(\"kullanıcı adınızı girin:\")\n",
    "\n",
    "parola = input(\"parolanızı girin:\")\n",
    "\n",
    "if (kullanıcı_adı != sys_kul_adı and parola == sys_parola):\n",
    "    print(\"kullanıcı_Adı hatalı.....\")\n",
    "\n",
    "elif(kullanıcı_adı==sys_kul_adı and parola!=sys_parola):\n",
    "    print(\"Parola hatalı......\")\n",
    "\n",
    "elif(kullanıcı_adı!=sys_kul_adı and parola!=sys_parola):\n",
    "    print(\"kullanıcı_Adı ve Prola hatalı......\")\n",
    "else:\n",
    "    print(\"başarıyla giriş yaptınız...\")\n",
    "    "
   ]
  },
  {
   "cell_type": "code",
   "execution_count": 6,
   "id": "47d30636",
   "metadata": {},
   "outputs": [
    {
     "name": "stdout",
     "output_type": "stream",
     "text": [
      "boyonu gir:1.73\n",
      "kilo gir57\n",
      "normal\n"
     ]
    }
   ],
   "source": [
    "boy=float(input(\"boyonu gir:\"))\n",
    "kilo=int(input(\"kilo gir\"))\n",
    "\n",
    "bki=kilo/(boy**2)\n",
    "\n",
    "if(bki<18.5):\n",
    "    print(\"zyıf\")\n",
    "elif(bki>=18.5 and bki<25):\n",
    "    print(\"normal\")\n",
    "elif(bki >= 25 and bki < 30):\n",
    "    print(\"Fazla Kilolu\")\n",
    "    \n",
    "else:\n",
    "    print(\"obez\")"
   ]
  },
  {
   "cell_type": "code",
   "execution_count": 14,
   "id": "983c13b7",
   "metadata": {},
   "outputs": [
    {
     "name": "stdout",
     "output_type": "stream",
     "text": [
      "hangitipi öğrenmek istoyorsun?üçgen\n",
      "kenar-1:10\n",
      "Kenar-2:5\n",
      "Kenar-3:10\n",
      "ikiz kenar üçgen....\n"
     ]
    }
   ],
   "source": [
    "şekil = input (\"hangitipi öğrenmek istoyorsun?\")\n",
    "\n",
    "if(şekil==\"dörtgen\"):\n",
    "    print(\"Lütfen kenarları sırayla giriniz.\")\n",
    "    a = int(input(\"Kenar-1:\"))\n",
    "    b = int(input(\"Kenar-2:\"))\n",
    "    c = int(input(\"Kenar-3:\"))\n",
    "    d = int(input(\"Kenar-4:\"))\n",
    "    \n",
    "    if(a==b and a==c and a==d):\n",
    "        print(\"kare\")\n",
    "    elif(a==c and b==d):\n",
    "        print(\"dik örtgen\")\n",
    "    else:\n",
    "        print(\"dörtgen\")\n",
    "        \n",
    "elif(şekil==\"üçgen\"):\n",
    "    a = int(input(\"kenar-1:\"))\n",
    "    b = int(input(\"Kenar-2:\"))\n",
    "    c = int(input(\"Kenar-3:\"))\n",
    "    if(abs(a+b) > c and abs (a+c) > b and abs (b+c) > a):\n",
    "        if(a==b and a==c):\n",
    "            print(\"eşkenar üçgen\")\n",
    "        elif((a==b and a!=c) or (a==c and a!=b) or (b==c and b!=a)):\n",
    "            print (\"ikiz kenar üçgen....\")\n",
    "        else:\n",
    "            print(\"çeişt kenar üçgen....\")\n",
    "    else:\n",
    "        print(\"üçgen belirtmiyor...\")\n",
    "\n",
    "else:\n",
    "    print(\"geçersiz şekil\")"
   ]
  },
  {
   "cell_type": "code",
   "execution_count": null,
   "id": "175b60ce",
   "metadata": {},
   "outputs": [],
   "source": []
  }
 ],
 "metadata": {
  "kernelspec": {
   "display_name": "Python 3 (ipykernel)",
   "language": "python",
   "name": "python3"
  },
  "language_info": {
   "codemirror_mode": {
    "name": "ipython",
    "version": 3
   },
   "file_extension": ".py",
   "mimetype": "text/x-python",
   "name": "python",
   "nbconvert_exporter": "python",
   "pygments_lexer": "ipython3",
   "version": "3.9.13"
  }
 },
 "nbformat": 4,
 "nbformat_minor": 5
}
