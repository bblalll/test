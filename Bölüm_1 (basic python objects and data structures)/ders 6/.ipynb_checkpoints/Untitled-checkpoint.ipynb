{
 "cells": [
  {
   "cell_type": "code",
   "execution_count": 3,
   "id": "d9cf8744",
   "metadata": {},
   "outputs": [
    {
     "data": {
      "text/plain": [
       "['rice', 3, 'elma', 8, 'tavuk', 33, 67]"
      ]
     },
     "execution_count": 3,
     "metadata": {},
     "output_type": "execute_result"
    }
   ],
   "source": [
    "liste=[\"rice\",3,\"elma\",8,\"tavuk\",33,67]\n",
    "liste"
   ]
  },
  {
   "cell_type": "code",
   "execution_count": 4,
   "id": "1e88304e",
   "metadata": {},
   "outputs": [
    {
     "data": {
      "text/plain": [
       "[1, 2, 3, 4, 5, 6, 7, 89]"
      ]
     },
     "execution_count": 4,
     "metadata": {},
     "output_type": "execute_result"
    }
   ],
   "source": [
    "liste2=[1,2,3,4,5,6,7,89,]\n",
    "liste2"
   ]
  },
  {
   "cell_type": "code",
   "execution_count": 5,
   "id": "c58fc682",
   "metadata": {},
   "outputs": [
    {
     "data": {
      "text/plain": [
       "[]"
      ]
     },
     "execution_count": 5,
     "metadata": {},
     "output_type": "execute_result"
    }
   ],
   "source": [
    "boşliste=[]\n",
    "boşliste"
   ]
  },
  {
   "cell_type": "code",
   "execution_count": 19,
   "id": "fbf4d7d0",
   "metadata": {},
   "outputs": [
    {
     "data": {
      "text/plain": [
       "[]"
      ]
     },
     "execution_count": 19,
     "metadata": {},
     "output_type": "execute_result"
    }
   ],
   "source": [
    "boşliste= list()\n",
    "boşliste"
   ]
  },
  {
   "cell_type": "code",
   "execution_count": 22,
   "id": "e6c96e23",
   "metadata": {},
   "outputs": [
    {
     "data": {
      "text/plain": [
       "15"
      ]
     },
     "execution_count": 22,
     "metadata": {},
     "output_type": "execute_result"
    }
   ],
   "source": [
    "liste3=[1,2,3,4,5,6,7,8,9,0,1,11,22,36,39]\n",
    "len (liste3)"
   ]
  },
  {
   "cell_type": "code",
   "execution_count": 46,
   "id": "309bb759",
   "metadata": {
    "scrolled": true
   },
   "outputs": [
    {
     "data": {
      "text/plain": [
       "['h', 'e', 'l', 'l', 'o', 'n', 'a', 'b', 'e', 'r']"
      ]
     },
     "execution_count": 46,
     "metadata": {},
     "output_type": "execute_result"
    }
   ],
   "source": [
    "a =\"hellonaber\"\n",
    "liste = list(a)\n",
    "liste"
   ]
  },
  {
   "cell_type": "code",
   "execution_count": 41,
   "id": "2034e011",
   "metadata": {},
   "outputs": [
    {
     "data": {
      "text/plain": [
       "['m', 'e', 'r', 'h', 'a', 'b', 'a']"
      ]
     },
     "execution_count": 41,
     "metadata": {},
     "output_type": "execute_result"
    }
   ],
   "source": [
    "s = \"merhaba\"\n",
    "liste4= list(s)\n",
    "liste4"
   ]
  },
  {
   "cell_type": "code",
   "execution_count": 86,
   "id": "8e07706f",
   "metadata": {},
   "outputs": [
    {
     "data": {
      "text/plain": [
       "[1, 2, 3, 4, 5, 6, 7, 8, 9, 10, 11, 12, 13]"
      ]
     },
     "execution_count": 86,
     "metadata": {},
     "output_type": "execute_result"
    }
   ],
   "source": [
    "liste = [1,2,3,4,5,6,7,8,9,10,11,12,13,]\n",
    "liste"
   ]
  },
  {
   "cell_type": "code",
   "execution_count": 87,
   "id": "ff0bc7d4",
   "metadata": {},
   "outputs": [
    {
     "data": {
      "text/plain": [
       "1"
      ]
     },
     "execution_count": 87,
     "metadata": {},
     "output_type": "execute_result"
    }
   ],
   "source": [
    "liste[0]"
   ]
  },
  {
   "cell_type": "code",
   "execution_count": 88,
   "id": "acdc93eb",
   "metadata": {},
   "outputs": [
    {
     "data": {
      "text/plain": [
       "9"
      ]
     },
     "execution_count": 88,
     "metadata": {},
     "output_type": "execute_result"
    }
   ],
   "source": [
    "liste[8]"
   ]
  },
  {
   "cell_type": "code",
   "execution_count": 89,
   "id": "e4ffdb96",
   "metadata": {},
   "outputs": [
    {
     "data": {
      "text/plain": [
       "5"
      ]
     },
     "execution_count": 89,
     "metadata": {},
     "output_type": "execute_result"
    }
   ],
   "source": [
    "liste[4]"
   ]
  },
  {
   "cell_type": "code",
   "execution_count": 90,
   "id": "489e6827",
   "metadata": {},
   "outputs": [
    {
     "data": {
      "text/plain": [
       "13"
      ]
     },
     "execution_count": 90,
     "metadata": {},
     "output_type": "execute_result"
    }
   ],
   "source": [
    "liste[len(liste)-1]"
   ]
  },
  {
   "cell_type": "code",
   "execution_count": 91,
   "id": "e4827535",
   "metadata": {},
   "outputs": [
    {
     "data": {
      "text/plain": [
       "9"
      ]
     },
     "execution_count": 91,
     "metadata": {},
     "output_type": "execute_result"
    }
   ],
   "source": [
    "liste[-5]"
   ]
  },
  {
   "cell_type": "code",
   "execution_count": 95,
   "id": "2a3f71ef",
   "metadata": {},
   "outputs": [
    {
     "data": {
      "text/plain": [
       "12"
      ]
     },
     "execution_count": 95,
     "metadata": {},
     "output_type": "execute_result"
    }
   ],
   "source": [
    "liste[-2]"
   ]
  },
  {
   "cell_type": "code",
   "execution_count": 96,
   "id": "441e31ff",
   "metadata": {},
   "outputs": [
    {
     "data": {
      "text/plain": [
       "1"
      ]
     },
     "execution_count": 96,
     "metadata": {},
     "output_type": "execute_result"
    }
   ],
   "source": [
    "liste[-len(liste)]"
   ]
  },
  {
   "cell_type": "code",
   "execution_count": 100,
   "id": "5b5a024a",
   "metadata": {},
   "outputs": [
    {
     "data": {
      "text/plain": [
       "[1, 2, 3, 4, 5, 6, 7]"
      ]
     },
     "execution_count": 100,
     "metadata": {},
     "output_type": "execute_result"
    }
   ],
   "source": [
    " liste[:7]"
   ]
  },
  {
   "cell_type": "code",
   "execution_count": 106,
   "id": "1058de2a",
   "metadata": {},
   "outputs": [
    {
     "data": {
      "text/plain": [
       "[3, 4, 5, 6, 7, 8, 9]"
      ]
     },
     "execution_count": 106,
     "metadata": {},
     "output_type": "execute_result"
    }
   ],
   "source": [
    "liste[2:9]"
   ]
  },
  {
   "cell_type": "code",
   "execution_count": 114,
   "id": "2f44770b",
   "metadata": {},
   "outputs": [
    {
     "data": {
      "text/plain": [
       "[8, 9, 10, 11, 12, 13]"
      ]
     },
     "execution_count": 114,
     "metadata": {},
     "output_type": "execute_result"
    }
   ],
   "source": [
    "liste[7:]"
   ]
  },
  {
   "cell_type": "code",
   "execution_count": 116,
   "id": "3394e397",
   "metadata": {},
   "outputs": [
    {
     "data": {
      "text/plain": [
       "[1, 4, 7, 10, 13]"
      ]
     },
     "execution_count": 116,
     "metadata": {},
     "output_type": "execute_result"
    }
   ],
   "source": [
    "liste[::3]"
   ]
  },
  {
   "cell_type": "code",
   "execution_count": 118,
   "id": "c8412437",
   "metadata": {},
   "outputs": [
    {
     "data": {
      "text/plain": [
       "[13, 12, 11, 10, 9, 8, 7, 6, 5, 4, 3, 2, 1]"
      ]
     },
     "execution_count": 118,
     "metadata": {},
     "output_type": "execute_result"
    }
   ],
   "source": [
    "liste[::-1]"
   ]
  },
  {
   "cell_type": "code",
   "execution_count": 120,
   "id": "53795924",
   "metadata": {},
   "outputs": [
    {
     "data": {
      "text/plain": [
       "[1, 2, 3, 4, 5, 6, 7, 8, 9, 10]"
      ]
     },
     "execution_count": 120,
     "metadata": {},
     "output_type": "execute_result"
    }
   ],
   "source": [
    "liste1=[1,2,3,4,5,]\n",
    "liste2=[6,7,8,9,10,]\n",
    "liste1+liste2"
   ]
  },
  {
   "cell_type": "code",
   "execution_count": 125,
   "id": "0df52997",
   "metadata": {},
   "outputs": [],
   "source": [
    "liste=[1,2,3,4,5,6,7]\n",
    "liste=liste+[\"bilal\"]"
   ]
  },
  {
   "cell_type": "code",
   "execution_count": 126,
   "id": "95c336e6",
   "metadata": {},
   "outputs": [
    {
     "data": {
      "text/plain": [
       "[1, 2, 3, 4, 5, 6, 7, 'bilal']"
      ]
     },
     "execution_count": 126,
     "metadata": {},
     "output_type": "execute_result"
    }
   ],
   "source": [
    "liste"
   ]
  },
  {
   "cell_type": "code",
   "execution_count": 127,
   "id": "fbffd161",
   "metadata": {},
   "outputs": [],
   "source": [
    "liste[0] = 33"
   ]
  },
  {
   "cell_type": "code",
   "execution_count": 128,
   "id": "89070360",
   "metadata": {},
   "outputs": [
    {
     "data": {
      "text/plain": [
       "[33, 2, 3, 4, 5, 6, 7, 'bilal']"
      ]
     },
     "execution_count": 128,
     "metadata": {},
     "output_type": "execute_result"
    }
   ],
   "source": [
    "liste"
   ]
  },
  {
   "cell_type": "code",
   "execution_count": 135,
   "id": "6ff3564b",
   "metadata": {},
   "outputs": [],
   "source": [
    "liste [:4] = [57,99]"
   ]
  },
  {
   "cell_type": "code",
   "execution_count": null,
   "id": "ad0f5944",
   "metadata": {},
   "outputs": [],
   "source": []
  }
 ],
 "metadata": {
  "kernelspec": {
   "display_name": "Python 3 (ipykernel)",
   "language": "python",
   "name": "python3"
  },
  "language_info": {
   "codemirror_mode": {
    "name": "ipython",
    "version": 3
   },
   "file_extension": ".py",
   "mimetype": "text/x-python",
   "name": "python",
   "nbconvert_exporter": "python",
   "pygments_lexer": "ipython3",
   "version": "3.9.13"
  }
 },
 "nbformat": 4,
 "nbformat_minor": 5
}
